{
 "cells": [
  {
   "cell_type": "markdown",
   "id": "82b575b0",
   "metadata": {},
   "source": [
    "# import"
   ]
  },
  {
   "cell_type": "code",
   "execution_count": 1,
   "id": "89cf23c9",
   "metadata": {},
   "outputs": [],
   "source": [
    "import numpy as np\n",
    "import dimod\n",
    "import matplotlib.pyplot as plt\n",
    "import dwave_networkx as dnx\n",
    "import networkx as nx\n",
    "import minorminer\n",
    "import minorminer.layout as mml\n",
    "%matplotlib inline\n",
    "import dwave.inspector\n",
    "import matplotlib as mpl\n",
    "import math\n",
    "from datetime import datetime\n",
    "from pathlib import Path  \n",
    "import pandas as pd\n",
    "import os"
   ]
  },
  {
   "cell_type": "code",
   "execution_count": 2,
   "id": "655fd1cb",
   "metadata": {},
   "outputs": [
    {
     "name": "stdout",
     "output_type": "stream",
     "text": [
      "QPU Advantage2_prototype1.1 was selected.\n"
     ]
    }
   ],
   "source": [
    "\n",
    "from dwave.system import DWaveSampler\n",
    "\n",
    "# Use a D-Wave system as the sampler\n",
    "f = open(\"token.txt\", \"r\")\n",
    "#sampler = DWaveSampler(solver=dict(topology__type='chimera'),token=f.read())\n",
    "sampler = DWaveSampler(solver=dict(topology__type='zephyr'),token=f.read())\n",
    "\n",
    "print(\"QPU {} was selected.\".format(sampler.solver.name))"
   ]
  },
  {
   "cell_type": "markdown",
   "id": "5077e552",
   "metadata": {
    "heading_collapsed": true
   },
   "source": [
    "# functions"
   ]
  },
  {
   "cell_type": "code",
   "execution_count": 22,
   "id": "e9f60252",
   "metadata": {
    "hidden": true
   },
   "outputs": [],
   "source": [
    "def Reverse(tup):\n",
    "    newtup=(tup[1],tup[0])\n",
    "    return newtup"
   ]
  },
  {
   "cell_type": "code",
   "execution_count": 5,
   "id": "bdd8baf2",
   "metadata": {
    "hidden": true
   },
   "outputs": [],
   "source": [
    "def RegsToTups(all_regs):\n",
    "    alledges=[]\n",
    "    allnodes=[]\n",
    "    for arr in all_regs:\n",
    "        list0=arr[0]\n",
    "        list1=arr[1]\n",
    "        for i in range(len(list0)):\n",
    "            qubit0=int(list0[i])\n",
    "            qubit1=int(list1[i])\n",
    "            alledges.append((qubit0,qubit1))\n",
    "            allnodes.append(qubit0)\n",
    "            allnodes.append(qubit1)\n",
    "    allnodes=set(allnodes)\n",
    "    return alledges,allnodes"
   ]
  },
  {
   "attachments": {},
   "cell_type": "markdown",
   "id": "ded8d0a7",
   "metadata": {},
   "source": [
    "# Embedding of a single plaquette term"
   ]
  },
  {
   "cell_type": "code",
   "execution_count": 15,
   "id": "9c5cb091",
   "metadata": {
    "hidden": true,
    "scrolled": false
   },
   "outputs": [
    {
     "data": {
      "image/png": "[encoded data removed]",
      "text/plain": [
       "<Figure size 400x400 with 1 Axes>"
      ]
     },
     "metadata": {},
     "output_type": "display_data"
    }
   ],
   "source": [
    "ancillas = {336, 364}\n",
    "plaquette = {44}\n",
    "qubits = {40, 340, 360, 41}\n",
    "alledges_non_filter = [(40, 340), (40, 336), (40, 44), (336, 340), (336, 44), (340, 44), (44, 41), (44, 360), (44, 364), (360, 364), (360, 41), (364, 41)]\n",
    "alledges = []\n",
    "for edge in alledges_non_filter:\n",
    "    if edge in sampler.edgelist:\n",
    "        alledges.append(edge)\n",
    "    elif Reverse(edge) in sampler.edgelist:\n",
    "        alledges.append(Reverse(edge))\n",
    "\n",
    "qubits=list(set(qubits))\n",
    "#allnodes = list(set(allnodes))\n",
    "ancillas=list(set(ancillas))\n",
    "plaquette=list(set(plaquette))\n",
    "allnodes = ancillas + qubits + plaquette\n",
    "\n",
    "\n",
    "plt.ion()\n",
    "plt.rcParams[\"figure.figsize\"] = (8,8)\n",
    "plt.rcParams[\"figure.dpi\"]=50\n",
    "\n",
    "alllabels={}\n",
    "for node in allnodes:\n",
    "    alllabels.update({node:str(node)})\n",
    "\n",
    "graph_all=dnx.zephyr_graph(4,edge_list=alledges)\n",
    "\n",
    "allcolors=[]\n",
    "for node in graph_all.nodes():\n",
    "    if (node in qubits):\n",
    "        allcolors.append('#ede6a8')\n",
    "    elif (node in ancillas):\n",
    "        allcolors.append('#eda8a8')\n",
    "    elif (node in plaquette):\n",
    "        allcolors.append('#c1b4ed')\n",
    "    else:\n",
    "        allcolors.append('none')\n",
    "\n",
    "# allcolors=np.array([sorted(allnodes),allcolors])\n",
    "    \n",
    "dnx.draw_zephyr(\n",
    "    graph_all,\n",
    "    node_color=allcolors,\n",
    "    labels=alllabels,\n",
    ")\n",
    "# dnx.draw_zephyr(Zeph)\n",
    "# dnx.draw_zephyr(Kag1,node_color='#eda8a8',with_labels=True)\n",
    "# dnx.draw_zephyr(Kag2,node_color='b',with_labels=True)\n",
    "# dnx.draw_zephyr(Kag2andcon,node_color='#83ebe0',with_labels=True)\n",
    "# plt.savefig('folded_kagome')\n",
    "plt.show()"
   ]
  },
  {
   "cell_type": "code",
   "execution_count": 11,
   "id": "a0b2b600",
   "metadata": {},
   "outputs": [
    {
     "data": {
      "text/plain": [
       "EdgeView([(40, 336), (40, 44), (41, 44), (41, 360), (41, 364), (44, 336), (44, 360), (44, 364), (360, 364)])"
      ]
     },
     "execution_count": 11,
     "metadata": {},
     "output_type": "execute_result"
    }
   ],
   "source": [
    "graph_all.edges"
   ]
  },
  {
   "cell_type": "code",
   "execution_count": 12,
   "id": "46c97a21",
   "metadata": {},
   "outputs": [
    {
     "data": {
      "text/plain": [
       "False"
      ]
     },
     "execution_count": 12,
     "metadata": {},
     "output_type": "execute_result"
    }
   ],
   "source": [
    "nodecheck = (336, 349)\n",
    "nodecheck in sampler.edgelist or Reverse(nodecheck) in sampler.edgelist\n"
   ]
  },
  {
   "attachments": {},
   "cell_type": "markdown",
   "id": "4cae88f5",
   "metadata": {},
   "source": [
    "create the h dict and the J dict - By Hand!"
   ]
  },
  {
   "cell_type": "code",
   "execution_count": 46,
   "id": "afc4f633",
   "metadata": {},
   "outputs": [],
   "source": [
    "h_dict = {}\n",
    "for i in graph_all.nodes:\n",
    "    if i in ancillas:\n",
    "        h_dict.update({i:-2})\n",
    "    elif i in plaquette:\n",
    "        h_dict.update({i:-2})\n",
    "    elif i in qubits:\n",
    "        h_dict.update({i:-1})\n",
    "\n",
    "J_dict = {}\n",
    "for e in graph_all.edges:\n",
    "    if e[0] in ancillas or e[1] in ancillas:\n",
    "        J_dict.update({e:2})\n",
    "    else:\n",
    "        J_dict.update({e:1})"
   ]
  },
  {
   "cell_type": "code",
   "execution_count": null,
   "id": "006cddb8",
   "metadata": {},
   "outputs": [],
   "source": []
  },
  {
   "attachments": {},
   "cell_type": "markdown",
   "id": "d7eadeee",
   "metadata": {},
   "source": [
    "# inspector"
   ]
  },
  {
   "cell_type": "code",
   "execution_count": 48,
   "id": "c887bf90",
   "metadata": {},
   "outputs": [
    {
     "data": {
      "text/html": [
       "<iframe src=http://127.0.0.1:18000/?problemId=04b2435f-a346-40d3-8c77-5873f052fe1c width=\"100%\" height=640></iframe>"
      ],
      "text/plain": [
       "Serving Inspector on http://127.0.0.1:18000/?problemId=04b2435f-a346-40d3-8c77-5873f052fe1c"
      ]
     },
     "metadata": {},
     "output_type": "display_data"
    },
    {
     "data": {
      "text/plain": [
       "'http://127.0.0.1:18000/?problemId=04b2435f-a346-40d3-8c77-5873f052fe1c'"
      ]
     },
     "execution_count": 48,
     "metadata": {},
     "output_type": "execute_result"
    }
   ],
   "source": [
    "\n",
    "\n",
    "response = sampler.sample_ising(h = h_dict, J=J_dict,\n",
    "                                            num_reads=100,\n",
    "                                            annealing_time=20,\n",
    "                                            answer_mode=\"raw\")\n",
    "dwave.inspector.show(response)"
   ]
  },
  {
   "cell_type": "code",
   "execution_count": 49,
   "id": "7ab20471",
   "metadata": {},
   "outputs": [
    {
     "data": {
      "text/plain": [
       "rec.array([([-1,  1,  1,  1, -1,  1, -1], -8., 1),\n",
       "           ([ 1,  1,  1, -1,  1,  1, -1], -8., 1),\n",
       "           ([ 1,  1,  1, -1,  1,  1, -1], -8., 1),\n",
       "           ([ 1,  1,  1, -1,  1,  1, -1], -8., 1),\n",
       "           ([ 1,  1,  1, -1,  1,  1, -1], -8., 1),\n",
       "           ([ 1,  1, -1,  1, -1, -1,  1], -8., 1),\n",
       "           ([ 1,  1,  1, -1,  1,  1, -1], -8., 1),\n",
       "           ([ 1,  1,  1, -1,  1,  1, -1], -8., 1),\n",
       "           ([ 1,  1,  1, -1,  1,  1, -1], -8., 1),\n",
       "           ([-1, -1, -1,  1,  1,  1,  1], -8., 1),\n",
       "           ([ 1, -1,  1, -1,  1, -1,  1], -8., 1),\n",
       "           ([ 1,  1,  1, -1,  1,  1, -1], -8., 1),\n",
       "           ([ 1,  1,  1, -1,  1,  1, -1], -8., 1),\n",
       "           ([ 1,  1,  1, -1,  1,  1, -1], -8., 1),\n",
       "           ([ 1,  1,  1, -1,  1,  1, -1], -8., 1),\n",
       "           ([ 1,  1,  1, -1,  1,  1, -1], -8., 1),\n",
       "           ([ 1,  1,  1, -1,  1,  1, -1], -8., 1),\n",
       "           ([ 1,  1,  1, -1,  1,  1, -1], -8., 1),\n",
       "           ([ 1,  1,  1, -1,  1,  1, -1], -8., 1),\n",
       "           ([ 1,  1,  1, -1,  1,  1, -1], -8., 1),\n",
       "           ([ 1,  1,  1, -1,  1,  1, -1], -8., 1),\n",
       "           ([ 1,  1,  1, -1,  1,  1, -1], -8., 1),\n",
       "           ([ 1,  1,  1, -1,  1,  1, -1], -8., 1),\n",
       "           ([ 1,  1,  1, -1,  1,  1, -1], -8., 1),\n",
       "           ([ 1, -1,  1, -1,  1, -1,  1], -8., 1),\n",
       "           ([ 1,  1,  1, -1,  1,  1, -1], -8., 1),\n",
       "           ([ 1,  1,  1, -1,  1,  1, -1], -8., 1),\n",
       "           ([ 1,  1,  1, -1,  1,  1, -1], -8., 1),\n",
       "           ([ 1, -1,  1, -1,  1, -1,  1], -8., 1),\n",
       "           ([ 1,  1,  1, -1,  1,  1, -1], -8., 1),\n",
       "           ([ 1,  1,  1, -1,  1,  1, -1], -8., 1),\n",
       "           ([ 1,  1,  1, -1,  1,  1, -1], -8., 1),\n",
       "           ([ 1,  1,  1, -1,  1,  1, -1], -8., 1),\n",
       "           ([ 1,  1,  1, -1,  1,  1, -1], -8., 1),\n",
       "           ([ 1, -1,  1, -1,  1, -1,  1], -8., 1),\n",
       "           ([ 1,  1,  1, -1,  1,  1, -1], -8., 1),\n",
       "           ([ 1,  1,  1, -1,  1,  1, -1], -8., 1),\n",
       "           ([ 1,  1,  1, -1,  1,  1, -1], -8., 1),\n",
       "           ([ 1,  1,  1, -1,  1,  1, -1], -8., 1),\n",
       "           ([ 1,  1,  1, -1,  1,  1, -1], -8., 1),\n",
       "           ([ 1,  1,  1, -1,  1,  1, -1], -8., 1),\n",
       "           ([-1, -1, -1,  1,  1,  1,  1], -8., 1),\n",
       "           ([ 1,  1,  1, -1,  1,  1, -1], -8., 1),\n",
       "           ([-1, -1,  1,  1, -1, -1,  1], -8., 1),\n",
       "           ([ 1,  1,  1, -1,  1,  1, -1], -8., 1),\n",
       "           ([ 1, -1,  1, -1,  1, -1,  1], -8., 1),\n",
       "           ([ 1,  1,  1, -1,  1,  1, -1], -8., 1),\n",
       "           ([ 1,  1,  1, -1,  1,  1, -1], -8., 1),\n",
       "           ([ 1, -1,  1, -1,  1, -1,  1], -8., 1),\n",
       "           ([ 1, -1,  1, -1,  1, -1,  1], -8., 1),\n",
       "           ([ 1, -1,  1, -1,  1, -1,  1], -8., 1),\n",
       "           ([ 1, -1,  1, -1,  1, -1,  1], -8., 1),\n",
       "           ([ 1,  1,  1, -1,  1,  1, -1], -8., 1),\n",
       "           ([ 1,  1,  1, -1,  1,  1, -1], -8., 1),\n",
       "           ([ 1, -1, -1,  1, -1,  1,  1], -8., 1),\n",
       "           ([ 1,  1,  1, -1,  1,  1, -1], -8., 1),\n",
       "           ([ 1,  1,  1, -1,  1,  1, -1], -8., 1),\n",
       "           ([ 1,  1,  1, -1,  1,  1, -1], -8., 1),\n",
       "           ([ 1,  1,  1, -1,  1,  1, -1], -8., 1),\n",
       "           ([ 1,  1,  1, -1,  1,  1, -1], -8., 1),\n",
       "           ([ 1, -1, -1,  1, -1,  1,  1], -8., 1),\n",
       "           ([ 1, -1,  1, -1,  1, -1,  1], -8., 1),\n",
       "           ([ 1,  1, -1,  1, -1, -1,  1], -8., 1),\n",
       "           ([ 1, -1,  1, -1,  1, -1,  1], -8., 1),\n",
       "           ([ 1,  1,  1, -1,  1,  1, -1], -8., 1),\n",
       "           ([ 1,  1,  1, -1,  1,  1, -1], -8., 1),\n",
       "           ([ 1,  1,  1, -1,  1,  1, -1], -8., 1),\n",
       "           ([ 1,  1,  1, -1,  1,  1, -1], -8., 1),\n",
       "           ([ 1, -1,  1, -1,  1, -1,  1], -8., 1),\n",
       "           ([ 1,  1,  1, -1,  1,  1, -1], -8., 1),\n",
       "           ([ 1, -1,  1, -1,  1, -1,  1], -8., 1),\n",
       "           ([ 1,  1,  1, -1,  1,  1, -1], -8., 1),\n",
       "           ([ 1,  1,  1, -1,  1,  1, -1], -8., 1),\n",
       "           ([ 1,  1,  1, -1,  1,  1, -1], -8., 1),\n",
       "           ([-1,  1,  1,  1, -1,  1, -1], -8., 1),\n",
       "           ([ 1,  1,  1, -1,  1,  1, -1], -8., 1),\n",
       "           ([ 1,  1,  1, -1,  1,  1, -1], -8., 1),\n",
       "           ([ 1,  1,  1, -1,  1,  1, -1], -8., 1),\n",
       "           ([ 1,  1,  1, -1,  1,  1, -1], -8., 1),\n",
       "           ([ 1, -1,  1, -1,  1, -1,  1], -8., 1),\n",
       "           ([ 1,  1,  1, -1,  1,  1, -1], -8., 1),\n",
       "           ([ 1,  1,  1, -1,  1,  1, -1], -8., 1),\n",
       "           ([ 1, -1,  1, -1,  1, -1,  1], -8., 1),\n",
       "           ([ 1,  1,  1, -1,  1,  1, -1], -8., 1),\n",
       "           ([ 1, -1,  1, -1,  1, -1,  1], -8., 1),\n",
       "           ([ 1, -1,  1, -1,  1, -1,  1], -8., 1),\n",
       "           ([ 1, -1,  1, -1,  1, -1,  1], -8., 1),\n",
       "           ([ 1,  1,  1, -1,  1,  1, -1], -8., 1),\n",
       "           ([ 1,  1,  1, -1,  1,  1, -1], -8., 1),\n",
       "           ([-1,  1,  1,  1, -1,  1, -1], -8., 1),\n",
       "           ([ 1,  1,  1, -1,  1,  1, -1], -8., 1),\n",
       "           ([ 1,  1,  1, -1,  1,  1, -1], -8., 1),\n",
       "           ([ 1,  1,  1, -1,  1,  1, -1], -8., 1),\n",
       "           ([-1,  1,  1,  1, -1,  1, -1], -8., 1),\n",
       "           ([ 1,  1,  1, -1,  1,  1, -1], -8., 1),\n",
       "           ([ 1,  1,  1, -1,  1,  1, -1], -8., 1),\n",
       "           ([-1,  1,  1,  1, -1,  1, -1], -8., 1),\n",
       "           ([ 1,  1,  1, -1,  1,  1, -1], -8., 1),\n",
       "           ([ 1,  1,  1, -1,  1,  1, -1], -8., 1),\n",
       "           ([ 1, -1,  1, -1,  1, -1,  1], -8., 1)],\n",
       "          dtype=[('sample', 'i1', (7,)), ('energy', '<f8'), ('num_occurrences', '<i8')])"
      ]
     },
     "execution_count": 49,
     "metadata": {},
     "output_type": "execute_result"
    }
   ],
   "source": [
    "response.record"
   ]
  },
  {
   "cell_type": "code",
   "execution_count": 52,
   "id": "edba901a",
   "metadata": {},
   "outputs": [],
   "source": [
    "#the index of the plaquette qubit\n",
    "ind_plaquette = response.variables.index(44)\n",
    "inds_qb_plaquettes = []\n",
    "for j in qubits:\n",
    "    inds_qb_plaquettes.append(response.variables.index(j))\n"
   ]
  },
  {
   "cell_type": "code",
   "execution_count": null,
   "id": "432d84a2",
   "metadata": {},
   "outputs": [],
   "source": []
  },
  {
   "cell_type": "code",
   "execution_count": 53,
   "id": "89447276",
   "metadata": {},
   "outputs": [
    {
     "data": {
      "text/plain": [
       "[0, 1, 4, 5]"
      ]
     },
     "execution_count": 53,
     "metadata": {},
     "output_type": "execute_result"
    }
   ],
   "source": [
    "inds_qb_plaquettes"
   ]
  },
  {
   "cell_type": "code",
   "execution_count": 40,
   "id": "5a07f346",
   "metadata": {},
   "outputs": [
    {
     "data": {
      "text/plain": [
       "([ 1, -1, -1,  1, -1,  1,  1], -8., 1)"
      ]
     },
     "execution_count": 40,
     "metadata": {},
     "output_type": "execute_result"
    }
   ],
   "source": [
    "response.record"
   ]
  },
  {
   "cell_type": "code",
   "execution_count": 55,
   "id": "69bceeb2",
   "metadata": {},
   "outputs": [
    {
     "data": {
      "text/plain": [
       "1"
      ]
     },
     "execution_count": 55,
     "metadata": {},
     "output_type": "execute_result"
    }
   ],
   "source": [
    "np.prod(response.record[10][0][inds_qb_plaquettes])"
   ]
  },
  {
   "cell_type": "code",
   "execution_count": 56,
   "id": "236147d2",
   "metadata": {},
   "outputs": [],
   "source": [
    "plaq_values = []\n",
    "plaq_values_compare = []\n",
    "for resp in response.record:\n",
    "    plaq_values.append(resp[0][ind_plaquette])\n",
    "    plaq_values_compare.append(np.prod(response.record[10][0][inds_qb_plaquettes]))\n",
    "#plaq_values"
   ]
  },
  {
   "cell_type": "code",
   "execution_count": 59,
   "id": "9f6de70a",
   "metadata": {},
   "outputs": [
    {
     "name": "stdout",
     "output_type": "stream",
     "text": [
      "0.06\n"
     ]
    }
   ],
   "source": [
    "#count the number of times constraint if off. \n",
    "coff = 0\n",
    "for i in range(100):\n",
    "    if plaq_values[i] != plaq_values_compare[i]:\n",
    "        coff += 1\n",
    "\n",
    "print(coff/100)"
   ]
  },
  {
   "attachments": {},
   "cell_type": "markdown",
   "id": "ea922e1e",
   "metadata": {},
   "source": [
    "6 % of iterations lead to the wrong plaquette value"
   ]
  },
  {
   "cell_type": "code",
   "execution_count": 51,
   "id": "4209b009",
   "metadata": {},
   "outputs": [
    {
     "data": {
      "text/plain": [
       "0.88"
      ]
     },
     "execution_count": 51,
     "metadata": {},
     "output_type": "execute_result"
    }
   ],
   "source": [
    "np.mean(plaq_values)"
   ]
  },
  {
   "attachments": {},
   "cell_type": "markdown",
   "id": "a6a91919",
   "metadata": {},
   "source": [
    "This can improved by doing some reverse annealing runs to find the ground state."
   ]
  },
  {
   "attachments": {},
   "cell_type": "markdown",
   "id": "7bbcfa87",
   "metadata": {},
   "source": [
    "# Do C=1 (odd constraint:)"
   ]
  },
  {
   "cell_type": "code",
   "execution_count": 29,
   "id": "08e0c055",
   "metadata": {},
   "outputs": [
    {
     "data": {
      "image/png": "[encoded data removed]",
      "text/plain": [
       "<Figure size 400x400 with 1 Axes>"
      ]
     },
     "metadata": {},
     "output_type": "display_data"
    }
   ],
   "source": [
    "ancillas_top = [336]\n",
    "ancillas_bottom = [364]\n",
    "plaquette = [44]\n",
    "qubits_top = [40, 340]\n",
    "qubits_bottom = [360, 41]\n",
    "alledges_non_filter = [(40, 340), (40, 336), (40, 44), (336, 340), (336, 44), (340, 44), (44, 41), (44, 360), (44, 364), (360, 364), (360, 41), (364, 41)]\n",
    "alledges = []\n",
    "for edge in alledges_non_filter:\n",
    "    if edge in sampler.edgelist:\n",
    "        alledges.append(edge)\n",
    "    elif Reverse(edge) in sampler.edgelist:\n",
    "        alledges.append(Reverse(edge))\n",
    "\n",
    "\n",
    "qubits = qubits_top + qubits_bottom\n",
    "#allnodes = list(set(allnodes))\n",
    "ancillas = ancillas_top + ancillas_bottom\n",
    "allnodes = ancillas + qubits + plaquette\n",
    "\n",
    "\n",
    "plt.ion()\n",
    "plt.rcParams[\"figure.figsize\"] = (8,8)\n",
    "plt.rcParams[\"figure.dpi\"]=50\n",
    "\n",
    "alllabels={}\n",
    "for node in allnodes:\n",
    "    alllabels.update({node:str(node)})\n",
    "\n",
    "graph_all=dnx.zephyr_graph(4,edge_list=alledges)\n",
    "\n",
    "allcolors=[]\n",
    "for node in graph_all.nodes():\n",
    "    if (node in qubits):\n",
    "        allcolors.append('#ede6a8')\n",
    "    elif (node in ancillas):\n",
    "        allcolors.append('#eda8a8')\n",
    "    elif (node in plaquette):\n",
    "        allcolors.append('#c1b4ed')\n",
    "    else:\n",
    "        allcolors.append('none')\n",
    "\n",
    "# allcolors=np.array([sorted(allnodes),allcolors])\n",
    "    \n",
    "dnx.draw_zephyr(\n",
    "    graph_all,\n",
    "    node_color=allcolors,\n",
    "    labels=alllabels,\n",
    ")\n",
    "# dnx.draw_zephyr(Zeph)\n",
    "# dnx.draw_zephyr(Kag1,node_color='#eda8a8',with_labels=True)\n",
    "# dnx.draw_zephyr(Kag2,node_color='b',with_labels=True)\n",
    "# dnx.draw_zephyr(Kag2andcon,node_color='#83ebe0',with_labels=True)\n",
    "# plt.savefig('folded_kagome')\n",
    "plt.show()"
   ]
  },
  {
   "attachments": {},
   "cell_type": "markdown",
   "id": "539d0c82",
   "metadata": {},
   "source": [
    "first attempt"
   ]
  },
  {
   "cell_type": "code",
   "execution_count": 31,
   "id": "11c60d70",
   "metadata": {},
   "outputs": [],
   "source": [
    "cv = -1\n",
    "#-1 is even encoding, which works\n",
    "#1 is odd encoding\n",
    "h_dict = {}\n",
    "for i in graph_all.nodes:\n",
    "    if i in ancillas_top:\n",
    "        h_dict.update({i:2*cv})\n",
    "    elif i in ancillas_bottom:\n",
    "        h_dict.update({i:-2})\n",
    "    elif i in plaquette:\n",
    "        h_dict.update({i:-(1-cv)})\n",
    "    elif i in qubits_top:\n",
    "        h_dict.update({i:cv})\n",
    "    elif i in qubits_bottom:\n",
    "        h_dict.update({i:-1})\n",
    "\n",
    "J_dict = {}\n",
    "for e in graph_all.edges:\n",
    "    if e[0] in ancillas_top or e[1] in ancillas_top:\n",
    "        J_dict.update({e:-2*cv})\n",
    "    elif e[0] in ancillas_bottom or e[1] in ancillas_bottom:\n",
    "        J_dict.update({e:2})\n",
    "    elif e[0] in qubits_top or e[1] in qubits_top:\n",
    "        J_dict.update({e:-cv})\n",
    "    elif e[0] in qubits_bottom or e[1] in qubits_bottom:\n",
    "        J_dict.update({e:1})"
   ]
  },
  {
   "attachments": {},
   "cell_type": "markdown",
   "id": "7457db18",
   "metadata": {},
   "source": [
    "second attempt"
   ]
  },
  {
   "cell_type": "code",
   "execution_count": 184,
   "id": "6e1f77be",
   "metadata": {},
   "outputs": [],
   "source": [
    "cv = 1 #just an overall minus or plus sign! no that does not work.\n",
    "h_dict = {}\n",
    "for i in graph_all.nodes:\n",
    "    if i in ancillas_top:\n",
    "        h_dict.update({i:2})\n",
    "    elif i in ancillas_bottom:\n",
    "        h_dict.update({i:-2})\n",
    "    elif i in plaquette:\n",
    "        h_dict.update({i:0})\n",
    "    elif i in qubits_top:\n",
    "        h_dict.update({i:1})\n",
    "    elif i in qubits_bottom:\n",
    "        h_dict.update({i:-1})\n",
    "\n",
    "J_dict = {}\n",
    "for e in graph_all.edges:\n",
    "    if e[0] in ancillas_top or e[1] in ancillas_top:\n",
    "        J_dict.update({e:-2})\n",
    "    elif e[0] in ancillas_bottom or e[1] in ancillas_bottom:\n",
    "        J_dict.update({e:2})\n",
    "    else:\n",
    "        if e[0] in qubits_top or e[1] in qubits_top:\n",
    "            J_dict.update({e:-1})\n",
    "        elif e[0] in qubits_bottom or e[1] in qubits_bottom:\n",
    "            J_dict.update({e:1})"
   ]
  },
  {
   "cell_type": "code",
   "execution_count": 34,
   "id": "c97d70e9",
   "metadata": {},
   "outputs": [],
   "source": [
    "num_reads = 100\n",
    "response = sampler.sample_ising(h = h_dict, J=J_dict,\n",
    "                                            num_reads=num_reads,\n",
    "                                            annealing_time=100,\n",
    "                                            answer_mode=\"raw\", num_spin_reversal_transforms = 5)"
   ]
  },
  {
   "cell_type": "code",
   "execution_count": 35,
   "id": "a779b864",
   "metadata": {},
   "outputs": [
    {
     "data": {
      "text/html": [
       "<iframe src=http://127.0.0.1:18000/?problemId=f5131d0d-7280-4203-b8d4-1d19c4d31690 width=\"100%\" height=640></iframe>"
      ],
      "text/plain": [
       "Serving Inspector on http://127.0.0.1:18000/?problemId=f5131d0d-7280-4203-b8d4-1d19c4d31690"
      ]
     },
     "metadata": {},
     "output_type": "display_data"
    },
    {
     "data": {
      "text/plain": [
       "'http://127.0.0.1:18000/?problemId=f5131d0d-7280-4203-b8d4-1d19c4d31690'"
      ]
     },
     "execution_count": 35,
     "metadata": {},
     "output_type": "execute_result"
    }
   ],
   "source": [
    "dwave.inspector.show(response)"
   ]
  },
  {
   "cell_type": "code",
   "execution_count": 123,
   "id": "8248f1bc",
   "metadata": {},
   "outputs": [
    {
     "name": "stdout",
     "output_type": "stream",
     "text": [
      "Avg value of the p central spin readout  -0.04\n",
      "Avg product of all qubits  1.0\n",
      "Number of cases where ancilla read != Prod of sigma z on the plaquette:  0.52\n"
     ]
    }
   ],
   "source": [
    "#the index of the plaquette qubit\n",
    "ind_plaquette = response.variables.index(44)\n",
    "inds_qb_plaquettes = []\n",
    "for j in qubits:\n",
    "    inds_qb_plaquettes.append(response.variables.index(j))\n",
    "    \n",
    "    \n",
    "plaq_values = []\n",
    "\n",
    "plaq_values_compare = []\n",
    "for resp in response.record:\n",
    "    plaq_values.append(resp[0][ind_plaquette])\n",
    "    plaq_values_compare.append(np.prod(response.record[10][0][inds_qb_plaquettes]))\n",
    "\n",
    "print(\"Avg value of the p central spin readout \", np.mean(plaq_values))\n",
    "print(\"Avg product of all qubits \", np.mean(plaq_values_compare))\n",
    "#plaq_values\n",
    "#count the number of times constraint if off. \n",
    "coff = 0\n",
    "for i in range(100):\n",
    "    if plaq_values[i] != plaq_values_compare[i]:\n",
    "        coff += 1\n",
    "\n",
    "print(\"Number of cases where ancilla read != Prod of sigma z on the plaquette: \", coff/100)"
   ]
  },
  {
   "attachments": {},
   "cell_type": "markdown",
   "id": "c6285a5c",
   "metadata": {},
   "source": [
    "For C = 1, all 100 reads leads to -1 product, meaning odd plaquettes. \n",
    "\n",
    "For C = -1, all 100 reads lead to 1 read of the ancilla. So there is a ploblem there."
   ]
  },
  {
   "cell_type": "code",
   "execution_count": null,
   "id": "f3dc6330",
   "metadata": {},
   "outputs": [],
   "source": []
  },
  {
   "attachments": {},
   "cell_type": "markdown",
   "id": "4cc3dd5e",
   "metadata": {},
   "source": [
    "# Minorminer embedding"
   ]
  },
  {
   "cell_type": "code",
   "execution_count": 3,
   "id": "1e7e0e4b",
   "metadata": {},
   "outputs": [
    {
     "name": "stdout",
     "output_type": "stream",
     "text": [
      "3\n",
      "{0: [0], 1: [2, 1], 2: [3]}\n"
     ]
    }
   ],
   "source": [
    "from minorminer import find_embedding\n",
    "\n",
    "# A triangle is a minor of a square.\n",
    "triangle = [(0, 1), (1, 2), (2, 0)]\n",
    "square = [(0, 1), (1, 2), (2, 3), (3, 0)]\n",
    "\n",
    "# Find an assignment of sets of square variables to the triangle variables\n",
    "embedding = find_embedding(triangle, square, random_seed=10)\n",
    "print(len(embedding))  # 3, one set for each variable in the triangle\n",
    "print(embedding)"
   ]
  },
  {
   "cell_type": "code",
   "execution_count": 21,
   "id": "ddf19af9",
   "metadata": {},
   "outputs": [
    {
     "name": "stdout",
     "output_type": "stream",
     "text": [
      "{1: [520], 2: [63], 3: [39, 532], 4: [59], 0: [524]}\n"
     ]
    }
   ],
   "source": [
    "import networkx as nx\n",
    "import dwave_networkx as dnx\n",
    "import minorminer.layout as mml\n",
    "\n",
    "#grid_graph = nx.generators.lattice.grid_2d_graph(3, 3)\n",
    "test_graph = [(1,2), (1,3), (1,4), (1,0), (2,3), (2,4), (2,0), (3,4), (3,0), (4,0)]\n",
    "C = dnx.zephyr_graph(4)\n",
    "\n",
    "embedding = mml.find_embedding(test_graph, C)\n",
    "print(embedding)"
   ]
  },
  {
   "cell_type": "code",
   "execution_count": 11,
   "id": "657cc52b",
   "metadata": {},
   "outputs": [
    {
     "data": {
      "image/png": "[encoded data removed]",
      "text/plain": [
       "<Figure size 640x480 with 1 Axes>"
      ]
     },
     "metadata": {},
     "output_type": "display_data"
    }
   ],
   "source": [
    "dnx.draw_zephyr(C)"
   ]
  },
  {
   "attachments": {},
   "cell_type": "markdown",
   "id": "af7d6aee",
   "metadata": {},
   "source": [
    "# test odd parity encoding"
   ]
  },
  {
   "attachments": {},
   "cell_type": "markdown",
   "id": "57d8fe28",
   "metadata": {},
   "source": [
    "This is the Lechner et al embedding. First attempt is on two unit cells of the Zephyr graph."
   ]
  },
  {
   "cell_type": "code",
   "execution_count": 39,
   "id": "8fbf5fa4",
   "metadata": {},
   "outputs": [],
   "source": [
    "edges_chain = [(42, 448), (62, 468), (38, 488), (43, 508)]\n",
    "edges_dominant = [(488, 46), (43, 46), (42, 46), (468, 46)]\n",
    "edges_intra = [(38, 448), (42, 43), (42, 468), (488, 62), (488, 43), (62, 508)]\n",
    "\n",
    "all_edges = edges_chain + edges_dominant + edges_intra\n",
    "J_dict = {}\n",
    "for e in all_edges:\n",
    "    if e in edges_chain:\n",
    "        jval = -4\n",
    "        if e in sampler.edgelist:\n",
    "            J_dict.update({e:jval})\n",
    "        elif Reverse(e) in sampler.edgelist:\n",
    "            J_dict.update({Reverse(e):jval})\n",
    "        else:\n",
    "            print(\"problem with \", e)\n",
    "    elif e in edges_dominant:\n",
    "        jval = 2\n",
    "        if e in sampler.edgelist:\n",
    "            J_dict.update({e:jval})\n",
    "        elif Reverse(e) in sampler.edgelist:\n",
    "            J_dict.update({Reverse(e):jval})\n",
    "        else:\n",
    "            print(\"problem with \", e)\n",
    "    elif e in edges_intra:\n",
    "        jval = -1\n",
    "        if e in sampler.edgelist:\n",
    "            J_dict.update({e:jval})\n",
    "        elif Reverse(e) in sampler.edgelist:\n",
    "            J_dict.update({Reverse(e):jval})\n",
    "        else:\n",
    "            print(\"problem with \", e)"
   ]
  },
  {
   "cell_type": "code",
   "execution_count": 40,
   "id": "95d09457",
   "metadata": {},
   "outputs": [],
   "source": [
    "num_reads = 100\n",
    "response = sampler.sample_ising(h = {}, J=J_dict,\n",
    "                                            num_reads=num_reads,\n",
    "                                            annealing_time=100,\n",
    "                                            answer_mode=\"raw\", num_spin_reversal_transforms = 5)"
   ]
  },
  {
   "cell_type": "code",
   "execution_count": 41,
   "id": "6e8f3b7a",
   "metadata": {},
   "outputs": [
    {
     "data": {
      "text/html": [
       "<iframe src=http://127.0.0.1:18000/?problemId=80c672cb-984c-45a4-8891-d3f57c518d75 width=\"100%\" height=640></iframe>"
      ],
      "text/plain": [
       "Serving Inspector on http://127.0.0.1:18000/?problemId=80c672cb-984c-45a4-8891-d3f57c518d75"
      ]
     },
     "metadata": {},
     "output_type": "display_data"
    },
    {
     "data": {
      "text/plain": [
       "'http://127.0.0.1:18000/?problemId=80c672cb-984c-45a4-8891-d3f57c518d75'"
      ]
     },
     "execution_count": 41,
     "metadata": {},
     "output_type": "execute_result"
    }
   ],
   "source": [
    "dwave.inspector.show(response)"
   ]
  },
  {
   "attachments": {},
   "cell_type": "markdown",
   "id": "74e5060c",
   "metadata": {},
   "source": [
    "another version: more succint. Relies on a single 4-chain as an ancilla, and everything can be done on a unit cell of the Zephyr graph"
   ]
  },
  {
   "cell_type": "code",
   "execution_count": 60,
   "id": "13120782",
   "metadata": {},
   "outputs": [],
   "source": [
    "edges_chain = [(51, 532), (55, 532), (528, 55), (528, 51)]\n",
    "edges_dominant = [(43, 532), (43, 528),(51, 520), (51, 524), (47, 528), (47, 532), (55, 520), (55,524)]\n",
    "edges_intra = [(43,520), (43,524), (520,47), (524, 47)]\n",
    "edges_diagonal = [(43, 47), (520,524)]\n",
    "\n",
    "all_edges = edges_chain + edges_dominant + edges_intra + edges_diagonal\n",
    "J_dict = {}\n",
    "for e in all_edges:\n",
    "    if e in edges_chain:\n",
    "        jval = -2\n",
    "        if e in sampler.edgelist:\n",
    "            J_dict.update({e:jval})\n",
    "        elif Reverse(e) in sampler.edgelist:\n",
    "            J_dict.update({Reverse(e):jval})\n",
    "        else:\n",
    "            print(\"problem with \", e)\n",
    "    elif e in edges_dominant:\n",
    "        jval = 1\n",
    "        if e in sampler.edgelist:\n",
    "            J_dict.update({e:jval})\n",
    "        elif Reverse(e) in sampler.edgelist:\n",
    "            J_dict.update({Reverse(e):jval})\n",
    "        else:\n",
    "            print(\"problem with \", e)\n",
    "    elif e in edges_intra:\n",
    "        jval = 1\n",
    "        if e in sampler.edgelist:\n",
    "            J_dict.update({e:jval})\n",
    "        elif Reverse(e) in sampler.edgelist:\n",
    "            J_dict.update({Reverse(e):jval})\n",
    "        else:\n",
    "            print(\"problem with \", e)\n",
    "    elif e in edges_diagonal:\n",
    "        jval = 1\n",
    "        if e in sampler.edgelist:\n",
    "            J_dict.update({e:jval})\n",
    "        elif Reverse(e) in sampler.edgelist:\n",
    "            J_dict.update({Reverse(e):jval})\n",
    "        else:\n",
    "            print(\"problem with \", e)"
   ]
  },
  {
   "cell_type": "code",
   "execution_count": 61,
   "id": "cc3fade7",
   "metadata": {},
   "outputs": [],
   "source": [
    "num_reads = 200\n",
    "response = sampler.sample_ising(h = {}, J=J_dict,\n",
    "                                            num_reads=num_reads,\n",
    "                                            annealing_time=100,\n",
    "                                            answer_mode=\"raw\", num_spin_reversal_transforms = 5)"
   ]
  },
  {
   "cell_type": "code",
   "execution_count": 62,
   "id": "a2dc49a7",
   "metadata": {},
   "outputs": [
    {
     "data": {
      "text/html": [
       "<iframe src=http://127.0.0.1:18000/?problemId=e7380c0e-97e9-480e-b73a-ac8fe924571c width=\"100%\" height=640></iframe>"
      ],
      "text/plain": [
       "Serving Inspector on http://127.0.0.1:18000/?problemId=e7380c0e-97e9-480e-b73a-ac8fe924571c"
      ]
     },
     "metadata": {},
     "output_type": "display_data"
    },
    {
     "data": {
      "text/plain": [
       "'http://127.0.0.1:18000/?problemId=e7380c0e-97e9-480e-b73a-ac8fe924571c'"
      ]
     },
     "execution_count": 62,
     "metadata": {},
     "output_type": "execute_result"
    }
   ],
   "source": [
    "dwave.inspector.show(response)"
   ]
  },
  {
   "attachments": {},
   "cell_type": "markdown",
   "id": "fad6dbe6",
   "metadata": {},
   "source": [
    "# another version: even encoding"
   ]
  },
  {
   "attachments": {},
   "cell_type": "markdown",
   "id": "b3792658",
   "metadata": {},
   "source": [
    "This is the Leib et al embedding"
   ]
  },
  {
   "cell_type": "code",
   "execution_count": 80,
   "id": "45dd5cb2",
   "metadata": {},
   "outputs": [],
   "source": [
    "edges_chain = [(63,540), (536, 55), (59, 532)]\n",
    "edges_dominant = [(520, 55), (47, 536), (55, 540), (43, 532), (524, 59), (532, 63)]\n",
    "edges_intra = [(47, 540), (43,524), (520,47), (520, 63), (43, 540), (524, 63)]\n",
    "\n",
    "ancilla_sites = [63,540, 536, 55, 59, 532]\n",
    "qubit_sites = [520, 43, 47, 524]\n",
    "\n",
    "all_edges = edges_chain + edges_dominant + edges_intra \n",
    "J_dict = {}\n",
    "for e in all_edges:\n",
    "    if e in edges_chain:\n",
    "        jval = -4\n",
    "        if e in sampler.edgelist:\n",
    "            J_dict.update({e:jval})\n",
    "        elif Reverse(e) in sampler.edgelist:\n",
    "            J_dict.update({Reverse(e):jval})\n",
    "        else:\n",
    "            print(\"problem with \", e)\n",
    "    elif e in edges_dominant:\n",
    "        jval = 2\n",
    "        if e in sampler.edgelist:\n",
    "            J_dict.update({e:jval})\n",
    "        elif Reverse(e) in sampler.edgelist:\n",
    "            J_dict.update({Reverse(e):jval})\n",
    "        else:\n",
    "            print(\"problem with \", e)\n",
    "    elif e in edges_intra:\n",
    "        jval = 1\n",
    "        if e in sampler.edgelist:\n",
    "            J_dict.update({e:jval})\n",
    "        elif Reverse(e) in sampler.edgelist:\n",
    "            J_dict.update({Reverse(e):jval})\n",
    "        else:\n",
    "            print(\"problem with \", e)\n",
    "\n",
    "all_sites = ancilla_sites + qubit_sites\n",
    "h_dict = {}\n",
    "for i in all_sites:\n",
    "    if i in ancilla_sites:\n",
    "        h_dict.update({i:-1})\n",
    "    elif i in qubit_sites:\n",
    "        h_dict.update({i:-1})"
   ]
  },
  {
   "cell_type": "code",
   "execution_count": 78,
   "id": "84a0d3cf",
   "metadata": {},
   "outputs": [],
   "source": [
    "num_reads = 2000\n",
    "response = sampler.sample_ising(h = h_dict, J=J_dict,\n",
    "                                            num_reads=num_reads,\n",
    "                                            annealing_time=100,\n",
    "                                            answer_mode=\"raw\", num_spin_reversal_transforms = 10)"
   ]
  },
  {
   "cell_type": "code",
   "execution_count": 79,
   "id": "fb8cfe0c",
   "metadata": {},
   "outputs": [
    {
     "data": {
      "text/html": [
       "<iframe src=http://127.0.0.1:18000/?problemId=d53b5c47-c540-4c55-b267-d0617d89eed5 width=\"100%\" height=640></iframe>"
      ],
      "text/plain": [
       "Serving Inspector on http://127.0.0.1:18000/?problemId=d53b5c47-c540-4c55-b267-d0617d89eed5"
      ]
     },
     "metadata": {},
     "output_type": "display_data"
    },
    {
     "data": {
      "text/plain": [
       "'http://127.0.0.1:18000/?problemId=d53b5c47-c540-4c55-b267-d0617d89eed5'"
      ]
     },
     "execution_count": 79,
     "metadata": {},
     "output_type": "execute_result"
    }
   ],
   "source": [
    "dwave.inspector.show(response)"
   ]
  }
 ],
 "metadata": {
  "kernelspec": {
   "display_name": "Python 3 (ipykernel)",
   "language": "python",
   "name": "python3"
  },
  "language_info": {
   "codemirror_mode": {
    "name": "ipython",
    "version": 3
   },
   "file_extension": ".py",
   "mimetype": "text/x-python",
   "name": "python",
   "nbconvert_exporter": "python",
   "pygments_lexer": "ipython3",
   "version": "3.8.8"
  }
 },
 "nbformat": 4,
 "nbformat_minor": 5
}
