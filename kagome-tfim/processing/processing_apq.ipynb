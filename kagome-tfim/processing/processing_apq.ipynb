{
 "cells": [
  {
   "cell_type": "code",
   "execution_count": 1,
   "id": "306857c8",
   "metadata": {},
   "outputs": [],
   "source": [
    "import numpy as np\n",
    "import pandas as pd\n",
    "from pathlib import Path\n",
    "import networkx as nx\n",
    "import matplotlib as mpl\n",
    "import matplotlib.pyplot as plt\n",
    "plt.rcParams.update(mpl.rcParamsDefault)\n",
    "import os\n",
    "import math\n",
    "import cmath\n"
   ]
  },
  {
   "attachments": {},
   "cell_type": "markdown",
   "id": "6cfd5d68",
   "metadata": {
    "heading_collapsed": true
   },
   "source": [
    "# functions"
   ]
  },
  {
   "cell_type": "code",
   "execution_count": 2,
   "id": "18139f50",
   "metadata": {
    "hidden": true
   },
   "outputs": [],
   "source": [
    "def open_file(path):\n",
    "    \n",
    "    file=np.load(path)\n",
    "    \n",
    "    resp=file['resp']\n",
    "    paramsarray=file['paramsarray']\n",
    "    missingqs=file['missingqs']\n",
    "    twochains=file['twochains']\n",
    "    nodes=file['final_nodes']\n",
    "    \n",
    "    return resp,paramsarray,missingqs,twochains,nodes"
   ]
  },
  {
   "cell_type": "code",
   "execution_count": 3,
   "id": "8f769822",
   "metadata": {
    "hidden": true
   },
   "outputs": [],
   "source": [
    "def open_file_new(path):\n",
    "    \n",
    "    file=np.load(path)\n",
    "    \n",
    "    resp=file['resp']\n",
    "    paramsarray=file['paramsarray']\n",
    "    \n",
    "    return resp,paramsarray"
   ]
  },
  {
   "cell_type": "code",
   "execution_count": 4,
   "id": "2358be3d",
   "metadata": {
    "hidden": true,
    "scrolled": false
   },
   "outputs": [],
   "source": [
    "def magnetization(response,filter_E):\n",
    "    \n",
    "    if filter_E==True:\n",
    "        #find the minimum energy\n",
    "        energies=[]\n",
    "        for i in range(len(response)):\n",
    "            energy=response[i][1]\n",
    "            energies.append(energy)\n",
    "        minE=min(energies)    \n",
    "        #count only runs in the response that have the minimum energy\n",
    "        filtered_resp=[]\n",
    "        for j in range(len(response)):\n",
    "            if response[j][1]==minE:\n",
    "                filtered_resp.append(response[i])\n",
    "        response=filtered_resp       \n",
    "        \n",
    "    mags=[]\n",
    "    for i in range(len(response)):\n",
    "        run_pms=response[i][0]\n",
    "        mags.append(np.mean(run_pms))\n",
    "\n",
    "    avgmag=np.mean(mags)\n",
    "    sdmag=np.std(mags)\n",
    "\n",
    "    return mags,avgmag,sdmag"
   ]
  },
  {
   "cell_type": "code",
   "execution_count": 5,
   "id": "3b730c1f",
   "metadata": {
    "hidden": true
   },
   "outputs": [],
   "source": [
    "def chain_breaks(response,twochains,nodes):\n",
    "    broken_runs=[]\n",
    "    brokens=[]\n",
    "    for run in range(len(resp)):\n",
    "        pms=resp[run][0]\n",
    "\n",
    "        broken=[]\n",
    "        for chain in twochains:\n",
    "            q0=chain[0]\n",
    "            q1=chain[1]\n",
    "            index0=sorted(list(nodes)).index(q0)\n",
    "            index1=sorted(list(nodes)).index(q1)\n",
    "\n",
    "            pm0=pms[index0]\n",
    "            pm1=pms[index1]\n",
    "\n",
    "            if pm0!=pm1:\n",
    "                broken.append((q0,q1))\n",
    "                \n",
    "        brokens.append(broken)\n",
    "        if len(broken)>0:\n",
    "            broken_runs.append(run)\n",
    "        \n",
    "    Nbrokens=[len(broken) for broken in brokens]\n",
    "    avgbrokens=np.mean(Nbrokens)\n",
    "    return brokens,avgbrokens,broken_runs "
   ]
  },
  {
   "cell_type": "code",
   "execution_count": 6,
   "id": "51abfc54",
   "metadata": {
    "hidden": true
   },
   "outputs": [],
   "source": [
    "#this function checks for chain breaks in a single configuration\n",
    "def chain_break_single(config,twochains,nodes):\n",
    "    pms=config\n",
    "\n",
    "    broken=[]\n",
    "    for chain in twochains:\n",
    "        q0=chain[0]\n",
    "        q1=chain[1]\n",
    "        index0=sorted(list(nodes)).index(q0)\n",
    "        index1=sorted(list(nodes)).index(q1)\n",
    "\n",
    "        pm0=pms[index0]\n",
    "        pm1=pms[index1]\n",
    "\n",
    "        if pm0!=pm1:\n",
    "            broken.append((q0,q1))\n",
    "        \n",
    "    Nbrokens=len(broken)\n",
    "    return broken,Nbrokens  "
   ]
  },
  {
   "cell_type": "code",
   "execution_count": 7,
   "id": "9f329936",
   "metadata": {
    "hidden": true
   },
   "outputs": [],
   "source": [
    "def checkabc(node):\n",
    "    print(node)\n",
    "    if node in a:\n",
    "        print('a')\n",
    "    if node in b:\n",
    "        print('b')\n",
    "    if node in c:\n",
    "        print('c')"
   ]
  },
  {
   "cell_type": "code",
   "execution_count": 8,
   "id": "554f4238",
   "metadata": {
    "hidden": true
   },
   "outputs": [],
   "source": [
    "def phi_tri(config, p, q, r, nodes):\n",
    "\n",
    "    p_vals = []\n",
    "    for qubit in p:\n",
    "        index = np.where(nodes == qubit)[0][0]\n",
    "        pm = config[index]\n",
    "        p_vals.append(pm)\n",
    "    p_sum = np.sum(p_vals)\n",
    "    q_vals = []\n",
    "    for qubit in q:\n",
    "        index = np.where(nodes == qubit)[0][0]\n",
    "        pm = config[index]\n",
    "        q_vals.append(pm)\n",
    "    q_sum = np.sum(q_vals)\n",
    "    r_vals = []\n",
    "    for qubit in r:\n",
    "        index = np.where(nodes == qubit)[0][0]\n",
    "        pm = config[index]\n",
    "        r_vals.append(pm)\n",
    "    r_sum = np.sum(r_vals)\n",
    "    \n",
    "    omega=np.exp(2*1j*np.pi/3)\n",
    "    phi = (3 / 56) * (p_sum + omega * q_sum + (omega**2) * r_sum)\n",
    "\n",
    "    phi_abs = np.sqrt(np.real(phi)**2 + np.imag(phi)**2)\n",
    "\n",
    "    return phi, phi_abs"
   ]
  },
  {
   "cell_type": "code",
   "execution_count": 9,
   "id": "baec9a64",
   "metadata": {
    "hidden": true
   },
   "outputs": [],
   "source": [
    "def find_indices(list_to_check, item_to_find):\n",
    "    indices = []\n",
    "    for idx, value in enumerate(list_to_check):\n",
    "        if value == item_to_find:\n",
    "            indices.append(idx)\n",
    "    return indices"
   ]
  },
  {
   "attachments": {},
   "cell_type": "markdown",
   "id": "675d37a8",
   "metadata": {
    "heading_collapsed": true
   },
   "source": [
    "# periodic kagome - new stuff"
   ]
  },
  {
   "cell_type": "code",
   "execution_count": 10,
   "id": "cec00865",
   "metadata": {
    "hidden": true
   },
   "outputs": [
    {
     "name": "stdout",
     "output_type": "stream",
     "text": [
      "number of points per sublattice\n",
      "A, B, C\n",
      "72 72 72\n",
      "number of points per sublattice\n",
      "A, B, C\n",
      "56 56 56\n"
     ]
    }
   ],
   "source": [
    "sublatt_dict={0: 'A', 7: 'B', 8: 'A', 9: 'A', 10: 'A', 11: 'A', 12: 'B', 13: 'B', 14: 'B', 15: 'B', 24: 'B', 40: 'B', 41: 'B', 42: 'B', 43: 'B', 44: 'A', 45: 'A', 46: 'A', 47: 'A', 48: 'B', 49: 'B', 50: 'B', 51: 'B', 52: 'A', 53: 'A', 54: 'A', 55: 'A', 63: 'B', 64: 'B', 71: 'A', 72: 'A', 73: 'A', 74: 'A', 75: 'A', 76: 'B', 77: 'B', 78: 'B', 79: 'B', 80: 'A', 81: 'A', 82: 'A', 83: 'A', 84: 'B', 85: 'B', 86: 'B', 87: 'B', 88: 'B', 95: 'B', 96: 'A', 104: 'B', 105: 'B', 106: 'B', 107: 'B', 108: 'A', 109: 'A', 110: 'A', 111: 'A', 112: 'B', 113: 'B', 114: 'B', 115: 'B', 116: 'A', 117: 'A', 118: 'A', 119: 'A', 120: 'A', 127: 'A', 128: 'B', 135: 'B', 136: 'A', 137: 'A', 138: 'A', 139: 'A', 140: 'B', 141: 'B', 142: 'B', 143: 'B', 144: 'A', 145: 'A', 146: 'A', 147: 'A', 148: 'B', 149: 'B', 150: 'B', 152: 'B', 159: 'B', 160: 'A', 168: 'B', 169: 'B', 170: 'B', 171: 'B', 172: 'A', 173: 'A', 174: 'A', 175: 'A', 176: 'B', 177: 'B', 178: 'B', 179: 'B', 180: 'A', 181: 'A', 182: 'A', 183: 'A', 191: 'B', 200: 'A', 201: 'A', 202: 'A', 203: 'A', 204: 'B', 205: 'B', 206: 'B', 207: 'B', 208: 'A', 209: 'A', 210: 'A', 211: 'A', 212: 'B', 213: 'B', 214: 'B', 215: 'B', 216: 'B', 223: 'B', 232: 'B', 233: 'B', 234: 'B', 235: 'B', 236: 'A', 237: 'A', 238: 'A', 239: 'A', 240: 'B', 241: 'B', 242: 'B', 243: 'B', 244: 'A', 245: 'A', 246: 'A', 247: 'A', 264: 'A', 265: 'A', 266: 'A', 267: 'A', 268: 'B', 269: 'B', 270: 'B', 271: 'B', 296: 'C', 297: 'C', 298: 'C', 299: 'C', 300: 'C', 301: 'C', 302: 'C', 303: 'C', 307: 'A', 310: 'A', 311: 'A', 318: 'B', 319: 'B', 324: 'A', 336: 'C', 337: 'C', 338: 'C', 339: 'C', 340: 'C', 341: 'C', 342: 'C', 343: 'C', 360: 'C', 361: 'C', 362: 'C', 363: 'C', 364: 'C', 365: 'C', 366: 'C', 367: 'C', 400: 'C', 401: 'C', 402: 'C', 403: 'C', 404: 'C', 405: 'C', 406: 'C', 407: 'C', 424: 'C', 425: 'C', 426: 'C', 427: 'C', 428: 'C', 429: 'C', 430: 'C', 431: 'C', 464: 'C', 465: 'C', 466: 'C', 467: 'C', 468: 'C', 469: 'C', 470: 'C', 471: 'C', 488: 'C', 489: 'C', 490: 'C', 491: 'C', 492: 'C', 493: 'C', 494: 'C', 495: 'C', 528: 'C', 529: 'C', 530: 'C', 531: 'C', 532: 'C', 533: 'C', 534: 'C', 535: 'C', 536: 'A', 537: 'A', 538: 'A', 539: 'A', 543: 'A', 550: 'A', 551: 'B', 552: 'C', 553: 'C', 554: 'C', 555: 'C', 556: 'C', 557: 'C', 558: 'C', 559: 'C'}\n",
    "toremove=[\n",
    "    63,191,551,223,159,95,7,\n",
    "    324,120,310,311,307,160,96,0\n",
    "]\n",
    "sublatt_dict_trunc=sublatt_dict.copy()\n",
    "for qubit in toremove:\n",
    "    sublatt_dict_trunc.pop(qubit)\n",
    "    \n",
    "toremove2=[71,556,127,557,550,558,543,559,539,555,538,554,537,553,536,552,\n",
    "           64,300,128,301,318,302,319,303,216,299,152,298,88, 297,24, 296,\n",
    "           87,135,215,271,207,143,79, 15, 80, 144,208,264,200,136,72,8\n",
    "\n",
    "]\n",
    "sublatt_dict_truncer=sublatt_dict_trunc.copy()\n",
    "for qubit in toremove2:\n",
    "    sublatt_dict_truncer.pop(qubit)\n",
    "\n",
    "Alist=[]\n",
    "Blist=[]\n",
    "Clist=[]\n",
    "for key in sublatt_dict_trunc.keys():\n",
    "    if sublatt_dict_trunc[key] == \"A\":\n",
    "        Alist.append(key)\n",
    "    if sublatt_dict_trunc[key] == \"B\":\n",
    "        Blist.append(key)\n",
    "    if sublatt_dict_trunc[key] == \"C\":\n",
    "        Clist.append(key)\n",
    "print(\"number of points per sublattice\")\n",
    "print(\"A, B, C\")\n",
    "print(len(Alist),len(Blist),len(Clist))\n",
    "\n",
    "Alist2=[]\n",
    "Blist2=[]\n",
    "Clist2=[]\n",
    "for key in sublatt_dict_truncer.keys():\n",
    "    if sublatt_dict_truncer[key] == \"A\":\n",
    "        Alist2.append(key)\n",
    "    if sublatt_dict_truncer[key] == \"B\":\n",
    "        Blist2.append(key)\n",
    "    if sublatt_dict_truncer[key] == \"C\":\n",
    "        Clist2.append(key)\n",
    "print(\"number of points per sublattice\")\n",
    "print(\"A, B, C\")\n",
    "print(len(Alist2),len(Blist2),len(Clist2))"
   ]
  },
  {
   "cell_type": "code",
   "execution_count": 11,
   "id": "f39e4649",
   "metadata": {
    "hidden": true
   },
   "outputs": [],
   "source": [
    "allsites=sublatt_dict.keys()\n",
    "allsites_down=sublatt_dict_trunc.keys()\n",
    "allsites_down_good=sublatt_dict_truncer.keys()\n"
   ]
  },
  {
   "cell_type": "code",
   "execution_count": 12,
   "id": "505532e3",
   "metadata": {
    "hidden": true
   },
   "outputs": [],
   "source": [
    "twochains_period=[(204, 382), (220, 342), (45, 412), (93, 404), (30, 488), (14, 472), (238, 511), (286, 471), (143, 525), (123, 533), (239, 567), (279, 535), (252, 343), (268, 351), (135, 541), (24, 312), (88, 313), (152, 314), (216, 315), (319, 256), (318, 192), (128, 325), (64, 316), (536, 39), (537, 103), (538, 167), (539, 231), (543, 255), (550, 199), (71, 548), (0, 320), (324, 56), (96, 321), (120, 317), (160, 322), (310, 184), (307, 224), (311, 248), (7, 544), (63, 540), (95, 545), (159, 546), (191, 542), (223, 547), (551, 263)]\n",
    "nodes_period=[0, 7, 8, 9, 10, 11, 12, 13, 14, 15, 24, 30, 39, 40, 41, 42, 43, 44, 45, 46, 47, 48, 49, 50, 51, 52, 53, 54, 55, 56, 63, 64, 71, 72, 73, 74, 75, 76, 77, 78, 79, 80, 81, 82, 83, 84, 85, 86, 87, 88, 93, 95, 96, 103, 104, 105, 106, 107, 108, 109, 110, 111, 112, 113, 114, 115, 116, 117, 118, 119, 120, 123, 127, 128, 135, 136, 137, 138, 139, 140, 141, 142, 143, 144, 145, 146, 147, 148, 149, 150, 152, 159, 160, 167, 168, 169, 170, 171, 172, 173, 174, 175, 176, 177, 178, 179, 180, 181, 182, 183, 184, 191, 192, 199, 200, 201, 202, 203, 204, 205, 206, 207, 208, 209, 210, 211, 212, 213, 214, 215, 216, 220, 223, 224, 231, 232, 233, 234, 235, 236, 237, 238, 239, 240, 241, 242, 243, 244, 245, 246, 247, 248, 252, 255, 256, 263, 264, 265, 266, 267, 268, 269, 270, 271, 279, 286, 296, 297, 298, 299, 300, 301, 302, 303, 307, 310, 311, 312, 313, 314, 315, 316, 317, 318, 319, 320, 321, 322, 324, 325, 336, 337, 338, 339, 340, 341, 342, 343, 351, 360, 361, 362, 363, 364, 365, 366, 367, 382, 400, 401, 402, 403, 404, 405, 406, 407, 412, 424, 425, 426, 427, 428, 429, 430, 431, 464, 465, 466, 467, 468, 469, 470, 471, 472, 488, 489, 490, 491, 492, 493, 494, 495, 511, 525, 528, 529, 530, 531, 532, 533, 534, 535, 536, 537, 538, 539, 540, 541, 542, 543, 544, 545, 546, 547, 548, 550, 551, 552, 553, 554, 555, 556, 557, 558, 559, 567]\n",
    "all_couplers_from_site = [(0, 296), (0, 40), (7, 552), (7, 47), (8, 12), (8, 296), (8, 336), (8, 24), (9, 13), (9, 360), (9, 12), (9, 400), (10, 14), (10, 424), (10, 13), (10, 464), (11, 15), (11, 488), (11, 14), (11, 528), (12, 360), (12, 336), (13, 424), (13, 400), (14, 488), (14, 464), (15, 552), (15, 528), (15, 536), (24, 296), (40, 296), (40, 44), (40, 340), (41, 360), (41, 45), (41, 404), (41, 44), (42, 424), (42, 46), (42, 468), (42, 45), (43, 488), (43, 47), (43, 532), (43, 46), (44, 360), (44, 340), (45, 424), (45, 404), (46, 488), (46, 468), (47, 552), (47, 532), (48, 300), (48, 52), (48, 336), (48, 324), (49, 400), (49, 52), (49, 364), (49, 53), (50, 464), (50, 53), (50, 428), (50, 54), (51, 528), (51, 54), (51, 492), (51, 55), (52, 336), (52, 364), (53, 400), (53, 428), (54, 464), (54, 492), (55, 556), (55, 528), (55, 63), (63, 556), (64, 300), (64, 80), (71, 556), (71, 87), (72, 76), (72, 297), (72, 340), (72, 88), (73, 77), (73, 361), (73, 76), (73, 404), (74, 78), (74, 425), (74, 77), (74, 468), (75, 79), (75, 489), (75, 78), (75, 532), (76, 361), (76, 340), (77, 425), (77, 404), (78, 489), (78, 468), (79, 553), (79, 532), (79, 537), (80, 84), (80, 300), (80, 337), (81, 84), (81, 401), (81, 85), (81, 364), (82, 85), (82, 465), (82, 86), (82, 428), (83, 86), (83, 529), (83, 87), (83, 492), (84, 337), (84, 364), (85, 401), (85, 428), (86, 465), (86, 492), (87, 556), (87, 529), (88, 297), (95, 553), (95, 111), (96, 297), (96, 104), (104, 297), (104, 108), (104, 341), (105, 361), (105, 109), (105, 405), (105, 108), (106, 425), (106, 110), (106, 469), (106, 109), (107, 489), (107, 111), (107, 533), (107, 110), (108, 361), (108, 341), (109, 425), (109, 405), (110, 489), (110, 469), (111, 553), (111, 533), (112, 301), (112, 116), (112, 337), (112, 120), (113, 401), (113, 116), (113, 365), (113, 117), (114, 465), (114, 117), (114, 429), (114, 118), (115, 529), (115, 118), (115, 493), (115, 119), (116, 337), (116, 365), (117, 401), (117, 429), (118, 465), (118, 493), (119, 557), (119, 529), (120, 301), (127, 557), (127, 135), (128, 301), (128, 144), (135, 557), (135, 530), (135, 147), (136, 140), (136, 298), (136, 341), (136, 152), (137, 141), (137, 362), (137, 140), (137, 405), (138, 142), (138, 426), (138, 141), (138, 469), (139, 143), (139, 490), (139, 142), (139, 533), (140, 362), (140, 341), (141, 426), (141, 405), (142, 490), (142, 469), (143, 554), (143, 533), (143, 538), (144, 148), (144, 301), (144, 338), (145, 148), (145, 402), (145, 149), (145, 365), (146, 149), (146, 466), (146, 150), (146, 429), (147, 150), (147, 530), (147, 493), (148, 338), (148, 365), (149, 402), (149, 429), (150, 466), (150, 493), (152, 298), (159, 554), (159, 175), (160, 298), (160, 168), (168, 298), (168, 172), (168, 342), (169, 362), (169, 173), (169, 406), (169, 172), (170, 426), (170, 174), (170, 470), (170, 173), (171, 490), (171, 175), (171, 534), (171, 174), (172, 362), (172, 342), (173, 426), (173, 406), (174, 490), (174, 470), (175, 554), (175, 534), (176, 302), (176, 180), (176, 338), (176, 310), (177, 402), (177, 180), (177, 366), (177, 181), (178, 466), (178, 181), (178, 430), (178, 182), (179, 530), (179, 182), (179, 494), (179, 183), (180, 338), (180, 366), (181, 402), (181, 430), (182, 466), (182, 494), (183, 558), (183, 530), (183, 191), (191, 558), (200, 204), (200, 299), (200, 342), (200, 216), (201, 205), (201, 363), (201, 204), (201, 406), (202, 206), (202, 427), (202, 205), (202, 470), (203, 207), (203, 491), (203, 206), (203, 534), (204, 363), (204, 342), (205, 427), (205, 406), (206, 491), (206, 470), (207, 555), (207, 534), (207, 539), (208, 212), (208, 302), (208, 339), (208, 318), (209, 212), (209, 403), (209, 213), (209, 366), (210, 213), (210, 467), (210, 214), (210, 430), (211, 214), (211, 531), (211, 215), (211, 494), (212, 339), (212, 366), (213, 403), (213, 430), (214, 467), (214, 494), (215, 558), (215, 531), (215, 550), (216, 299), (223, 555), (223, 239), (232, 299), (232, 236), (232, 343), (232, 307), (233, 363), (233, 237), (233, 407), (233, 236), (234, 427), (234, 238), (234, 471), (234, 237), (235, 491), (235, 239), (235, 535), (235, 238), (236, 363), (236, 343), (237, 427), (237, 407), (238, 491), (238, 471), (239, 555), (239, 535), (240, 303), (240, 244), (240, 339), (240, 311), (241, 367), (241, 245), (241, 403), (241, 244), (242, 431), (242, 246), (242, 467), (242, 245), (243, 495), (243, 247), (243, 531), (243, 246), (244, 367), (244, 339), (245, 431), (245, 403), (246, 495), (246, 467), (247, 559), (247, 531), (247, 551), (264, 268), (264, 343), (264, 303), (264, 319), (265, 268), (265, 407), (265, 269), (265, 367), (266, 269), (266, 471), (266, 270), (266, 431), (267, 270), (267, 535), (267, 271), (267, 495), (268, 343), (268, 367), (269, 407), (269, 431), (270, 471), (270, 495), (271, 535), (271, 559), (271, 543), (299, 307), (300, 324), (302, 318), (302, 310), (303, 319), (303, 311), (536, 552), (537, 553), (538, 554), (539, 555), (543, 559), (550, 558), (551, 559)]"
   ]
  },
  {
   "attachments": {},
   "cell_type": "markdown",
   "id": "4b0352e9",
   "metadata": {},
   "source": [
    "we need to create lists of the indices to measure"
   ]
  },
  {
   "cell_type": "code",
   "execution_count": 13,
   "id": "7bfe8b10",
   "metadata": {},
   "outputs": [],
   "source": [
    "all_sites = []\n",
    "for n in range(len(list(sublatt_dict.keys()))):\n",
    "    qubit = list(sublatt_dict.keys())[n]\n",
    "    index = np.where(np.array(nodes_period) == qubit)[0][0]\n",
    "    all_sites.append(index)\n",
    "\n",
    "all_down_triangles = []\n",
    "for n in range(len(list(sublatt_dict_trunc.keys()))):\n",
    "    qubit = list(sublatt_dict_trunc.keys())[n]\n",
    "    index = np.where(np.array(nodes_period) == qubit)[0][0]\n",
    "    all_down_triangles.append(index)\n",
    "\n",
    "all_good_down_triangles = []\n",
    "for n in range(len(list(sublatt_dict_truncer.keys()))):\n",
    "    qubit = list(sublatt_dict_truncer.keys())[n]\n",
    "    index = np.where(np.array(nodes_period) == qubit)[0][0]\n",
    "    all_good_down_triangles.append(index)"
   ]
  },
  {
   "cell_type": "code",
   "execution_count": 14,
   "id": "d724ae9a",
   "metadata": {},
   "outputs": [],
   "source": [
    "list_sites_a = []\n",
    "list_sites_b = []\n",
    "actual_couples_to_measure = []\n",
    "for n in range(len(list(sublatt_dict_truncer.keys()))):\n",
    "    qubit = list(sublatt_dict_truncer.keys())[n]\n",
    "    for tuple_couple in all_couplers_from_site:\n",
    "        if qubit == tuple_couple[0] or qubit == tuple_couple[1]:\n",
    "            actual_couples_to_measure.append(tuple_couple)\n",
    "\n",
    "del_dup_couples = [*set(actual_couples_to_measure)]\n",
    "for i in range(len(del_dup_couples)):\n",
    "    asite = np.where(np.array(nodes_period) == del_dup_couples[i][0])[0][0]\n",
    "    list_sites_a.append(asite)\n",
    "    bsite = np.where(np.array(nodes_period) == del_dup_couples[i][1])[0][0]\n",
    "    list_sites_b.append(bsite)"
   ]
  },
  {
   "attachments": {},
   "cell_type": "markdown",
   "id": "ad09e093",
   "metadata": {},
   "source": [
    "# process anneal pause quench"
   ]
  },
  {
   "cell_type": "code",
   "execution_count": 65,
   "id": "a616c985",
   "metadata": {},
   "outputs": [
    {
     "name": "stdout",
     "output_type": "stream",
     "text": [
      "data/raw_apq_v4/h=2.6454806785540184\n",
      "h1= 2.6454806785540184\n",
      "data/raw_apq_v4/h=2.8108232209636443\n",
      "h1= 2.8108232209636443\n",
      "data/raw_apq_v4/h=3.306850848192523\n",
      "h1= 3.306850848192523\n",
      "data/raw_apq_v4/h=2.4801381361443924\n",
      "h1= 2.4801381361443924\n"
     ]
    }
   ],
   "source": [
    "mainfolder = list(Path('./data/raw_apq_v4').glob('*'))\n",
    "#mainfolder = list(Path('./data/raw_apq_zx').glob('*'))\n",
    "\n",
    "\n",
    "# list of h values\n",
    "h1list = []\n",
    "# list of s values\n",
    "slist = []\n",
    "\n",
    "rep_list = []\n",
    "\n",
    "list_of_folders = []\n",
    "\n",
    "rep_file_names = []\n",
    "\n",
    "for foldername in mainfolder:\n",
    "    print(foldername)\n",
    "    h1 = str(foldername).split('/')[-1].split('=')[-1]\n",
    "    print(\"h1=\",h1)\n",
    "    h1list.append(h1)\n",
    "    folderlist_h = list(foldername.glob('*'))\n",
    "    list_of_folders.append(foldername)\n",
    "    #print(folderlist_h)\n",
    "    rep_file_names_h = []\n",
    "\n",
    "    s_list_h=[]\n",
    "    rep_list_h = []\n",
    "    #take care of ds checkpoint folder\n",
    "    for foldername_s in folderlist_h:\n",
    "        folderlist_s = list(foldername_s.glob('*'))\n",
    "        rep_file_names_h.append(folderlist_s)\n",
    "        s = '0.' + str(foldername_s).split('/')[-1].split('.')[-1]\n",
    "        #print(\"s=\", s)\n",
    "        s_list_h.append(float(s))\n",
    "        rep_list_h.append(len(folderlist_s))\n",
    "\n",
    "    rep_list.append(rep_list_h)\n",
    "    s_list_h_arr = np.array(s_list_h)\n",
    "    sort_index = np.argsort(s_list_h_arr)\n",
    "    rep_file_names.append(rep_file_names_h)\n",
    "    slist.append([s_list_h[sort_index[i]] for i in range(len(s_list_h_arr))])"
   ]
  },
  {
   "cell_type": "code",
   "execution_count": 67,
   "id": "82a44100",
   "metadata": {},
   "outputs": [
    {
     "name": "stdout",
     "output_type": "stream",
     "text": [
      "start with h=2.6454806785540184\n",
      "done with h=2.6454806785540184\n",
      "start with h=2.8108232209636443\n",
      "done with h=2.8108232209636443\n",
      "start with h=3.306850848192523\n",
      "done with h=3.306850848192523\n",
      "start with h=2.4801381361443924\n",
      "done with h=2.4801381361443924\n"
     ]
    }
   ],
   "source": [
    "import h5py\n",
    "#where_to_save = \"./data/processed_apq_zx/\"\n",
    "where_to_save = \"./data/processed_apq_v4/\"\n",
    "\n",
    "folder_create = Path(where_to_save[:-1])\n",
    "folder_create.mkdir(parents=True, exist_ok=True)\n",
    "\n",
    "\n",
    "for k in range(len(list_of_folders)):\n",
    "# for k in range(3,4):\n",
    "    #these are the h_folders\n",
    "    folder_lookinto = list_of_folders[k]\n",
    "    #range(len(slist))\n",
    "    #folder_lookinto = \"./data/raw_apq/h=2.116384542843215/\"\n",
    "    avgbrokens = []\n",
    "    allEs = []\n",
    "    magseries1 = []\n",
    "    magseries2 = []\n",
    "    magseries3 = []\n",
    "    phiseries = []\n",
    "    Eclassical = []\n",
    "    slist_at_h=slist[k]\n",
    "\n",
    "    h1_print_val = h1list[k]\n",
    "    print(\"start with h=\" + h1_print_val)\n",
    "\n",
    "    for ls in range(len(slist_at_h)):\n",
    "        #path_sp = Path(str(folder_lookinto) + \"/sp=\" + str(slist_at_h[ls]))\n",
    "        path_sp = rep_file_names[k][ls]\n",
    "\n",
    "        energies = []\n",
    "\n",
    "        mags1 = []\n",
    "        mags2 = []\n",
    "        mags3 = []\n",
    "\n",
    "        phis = []\n",
    "        energies_classical = []\n",
    "\n",
    "        broken_number = []\n",
    "\n",
    "        #these are the repetitions\n",
    "        for rep_i in range(len(path_sp)):\n",
    "            file =  path_sp[rep_i]   \n",
    "            name = os.path.basename(file)\n",
    "            if name != 'regs.npz':\n",
    "                try:\n",
    "                    resp, paramsarray = open_file_new(file)\n",
    "                    \n",
    "                except ValueError:\n",
    "                    pass\n",
    "\n",
    "            #process those files\n",
    "            resp_array = np.array(resp)\n",
    "\n",
    "            broken = 0\n",
    "\n",
    "            brokens, avgbroken, broken_runs = chain_breaks(\n",
    "                resp, twochains_period, nodes_period)\n",
    "            if len(broken_runs) > 0:\n",
    "                broken += len(broken_runs)\n",
    "            #avgbrokens.append(avgbroken)\n",
    "            broken_number.append(avgbroken)\n",
    "\n",
    "            #next loop over all reads\n",
    "            for m in range(resp_array.shape[0]):\n",
    "                frequency = resp[m][2]\n",
    "\n",
    "                for freq in range(frequency):\n",
    "                    energies.append(resp[m][1])\n",
    "\n",
    "                    arr = resp[m][0]\n",
    "\n",
    "                    mag1 = np.mean(arr[all_sites])\n",
    "                    mag2 = np.mean(arr[all_down_triangles])\n",
    "                    mag3 = np.mean(arr[all_good_down_triangles])\n",
    "\n",
    "                    mags1.append(mag1)\n",
    "                    mags2.append(mag2)\n",
    "                    mags3.append(mag3)\n",
    "\n",
    "                    eclass = np.mean(np.multiply(arr[list_sites_a], arr[list_sites_b]))\n",
    "                    energies_classical.append(eclass)\n",
    "\n",
    "                    phi, phi_abs = phi_tri(arr, Alist, Blist, Clist,\n",
    "                                            np.array(nodes_period))\n",
    "                    phis.append(phi)\n",
    "\n",
    "        allEs.append(energies)\n",
    "\n",
    "        magseries1.append(mags1)\n",
    "        magseries2.append(mags2)\n",
    "        magseries3.append(mags3)\n",
    "\n",
    "        phiseries.append(phis)\n",
    "        Eclassical.append(energies_classical)\n",
    "        avgbrokens.append(broken_number)\n",
    "\n",
    "\n",
    "        # print(\"sp = \" + str(slist_at_h[ls]) + \" - done - number of broken runs:\", broken)\n",
    "\n",
    "\n",
    "        # filename = where_to_save + \"processed_h=\" + h1_print_val + \"sp = \" + str(slist_at_h[ls]) + \".hdf5\"\n",
    "\n",
    "        # try:\n",
    "        #     os.remove(filename)\n",
    "        # except OSError:\n",
    "        #     pass\n",
    "\n",
    "        # with h5py.File(Path(filename), \"w\") as f:\n",
    "        #     f.create_dataset(\"slist\", data = slist_at_h[ls])\n",
    "        #     f.create_dataset(\"avg_broken\", data = broken_number)\n",
    "        #     f.create_dataset(\"energies\", data = energies)\n",
    "        #     f.create_dataset(\"good_down_triangle_magnetization\", data = mags3)\n",
    "        #     f.create_dataset(\"energy_classical\", data = energies_classical)\n",
    "            \n",
    "\n",
    "    print(\"done with h=\" + h1_print_val)\n",
    "\n",
    "    filename_h = where_to_save + \"processed_h=\" + h1_print_val + \".hdf5\"\n",
    "\n",
    "    try:\n",
    "        os.remove(filename_h)\n",
    "    except OSError:\n",
    "        pass\n",
    "\n",
    "    #print(allEs)\n",
    "\n",
    "    with h5py.File(Path(filename_h), \"w\") as f:\n",
    "        f.create_dataset(\"slist\", data = slist_at_h)\n",
    "        f.create_dataset(\"avg_broken\", data = avgbrokens)\n",
    "        f.create_dataset(\"energies\", data = allEs)\n",
    "        f.create_dataset(\"all_magnetization\", data = magseries1)\n",
    "        f.create_dataset(\"good_down_triangle_magnetization\", data = magseries3)"
   ]
  },
  {
   "attachments": {},
   "cell_type": "markdown",
   "id": "47b01d29",
   "metadata": {},
   "source": [
    "# plotting things"
   ]
  },
  {
   "cell_type": "code",
   "execution_count": 19,
   "id": "a1fd5fa2",
   "metadata": {},
   "outputs": [],
   "source": [
    "import matplotlib.pyplot as plt\n",
    "import matplotlib"
   ]
  },
  {
   "cell_type": "code",
   "execution_count": 68,
   "id": "9b7ad12e",
   "metadata": {},
   "outputs": [
    {
     "data": {
      "image/png": "[encoded data removed]",
      "text/plain": [
       "<Figure size 640x480 with 1 Axes>"
      ]
     },
     "metadata": {},
     "output_type": "display_data"
    }
   ],
   "source": [
    "#sort the h1list\n",
    "sorted_hs = np.array([float(h1list[i]) for i in range(len(h1list))])\n",
    "sort_index = np.argsort(sorted_hs)\n",
    "\n",
    "colors = len(list_of_folders)\n",
    "cmap = matplotlib.cm.get_cmap('brg')\n",
    "\n",
    "some_k = range(len(list_of_folders))\n",
    "#some_k = [0]\n",
    "for k in some_k:\n",
    "    h1_print_val = h1list[sort_index[k]]\n",
    "    file_name = where_to_save + \"processed_h=\" + h1_print_val + \".hdf5\"\n",
    "    data = h5py.File(file_name, 'r')\n",
    "    xval = data['slist']\n",
    "    yval = np.mean(data['good_down_triangle_magnetization'], axis = 1) \n",
    "    #avg_classical_mag = np.mean(yval[-3:-1])\n",
    "    #yval = yval - avg_classical_mag\n",
    "    \n",
    "    error = np.std(data['good_down_triangle_magnetization'], axis = 1)\n",
    "    #plt.plot(xval, yval, label = 'h/J = ' + str(float(h1_print_val)*1.5120125550062011))\n",
    "    rgba = cmap(k/len(list_of_folders))\n",
    "    plt.errorbar(xval, yval, yerr = error, label = 'h/J = ' + str(float(h1_print_val)*1.5120125550062011) , color = rgba)\n",
    "plt.legend()\n",
    "plt.xlabel('s_pause')\n",
    "plt.ylabel('<m>')\n",
    "#plt.ylim((-1,0))\n",
    "plt.title('Obtained using anneal pause quench')\n",
    "plt.show()\n"
   ]
  },
  {
   "cell_type": "code",
   "execution_count": 28,
   "id": "174d2014",
   "metadata": {},
   "outputs": [
    {
     "data": {
      "text/plain": [
       "nan"
      ]
     },
     "execution_count": 28,
     "metadata": {},
     "output_type": "execute_result"
    }
   ],
   "source": [
    "yval"
   ]
  },
  {
   "attachments": {},
   "cell_type": "markdown",
   "id": "9fe2b2a6",
   "metadata": {},
   "source": [
    "# plot with the Gamma/J"
   ]
  },
  {
   "cell_type": "code",
   "execution_count": 83,
   "id": "2cc6ffb4",
   "metadata": {},
   "outputs": [],
   "source": [
    "data = pd.read_excel('./annealing_schedule.xlsx',  sheet_name='processor-annealing-schedule') \n",
    "s_vals = pd.DataFrame(data, columns=['s'])\n",
    "A_vals = pd.DataFrame(data, columns=['A(s) (GHz)'])\n",
    "B_vals = pd.DataFrame(data, columns=['B(s) (GHz)'])\n",
    "cs_vals = pd.DataFrame(data, columns=['C (normalized)'])\n",
    "first_s = s_vals.to_numpy().flatten()\n",
    "first_A = A_vals.to_numpy().flatten()\n",
    "first_B = B_vals.to_numpy().flatten()\n",
    "first_c = cs_vals.to_numpy().flatten()\n",
    "\n",
    "new_s = np.linspace(0,1,num = 100*len(first_s))\n",
    "new_A = np.interp(new_s, first_s, first_A)\n",
    "new_B = np.interp(new_s, first_s, first_B)\n",
    "new_c = np.interp(new_s, first_s, first_c)\n",
    "\n",
    "AdivB = np.divide(new_A,new_B)\n",
    "\n",
    "def find_nearest(array, value):\n",
    "    array = np.asarray(array)\n",
    "    idx = (np.abs(array - value)).argmin()\n",
    "    return idx\n",
    "    "
   ]
  },
  {
   "cell_type": "code",
   "execution_count": 149,
   "id": "a8c7a806",
   "metadata": {},
   "outputs": [
    {
     "data": {
      "image/png": "[encoded data removed]",
      "text/plain": [
       "<Figure size 640x480 with 1 Axes>"
      ]
     },
     "metadata": {},
     "output_type": "display_data"
    }
   ],
   "source": [
    "#sort the h1list\n",
    "sorted_hs = np.array([float(h1list[i]) for i in range(len(h1list))])\n",
    "sort_index = np.argsort(sorted_hs)\n",
    "overJ = 1.5120125550062011\n",
    "\n",
    "for k in range(len(list_of_folders)):\n",
    "    h1_print_val = h1list[sort_index[k]]\n",
    "    file_name = where_to_save + \"processed_h=\" + h1_print_val + \".hdf5\"\n",
    "    data = h5py.File(file_name, 'r')\n",
    "    xval_s = data['slist']\n",
    "\n",
    "    xval_gammaoverJ = np.zeros(len(xval_s))\n",
    "    for i in range(len(xval_s)):\n",
    "        index_s = find_nearest(new_s, value = xval_s[i])\n",
    "        xval_gammaoverJ[i] = overJ*AdivB[index_s]\n",
    "\n",
    "\n",
    "    yval = np.mean(data['good_down_triangle_magnetization'], axis = 1) \n",
    "    avg_classical_mag = np.mean(yval[-3:-1])\n",
    "    #yval = yval - avg_classical_mag\n",
    "    error = np.std(data['good_down_triangle_magnetization'], axis = 1)\n",
    "    #plt.plot(xval, yval, label = 'h/J = ' + str(float(h1_print_val)*1.5120125550062011))\n",
    "    rgba = cmap(k/len(list_of_folders))\n",
    "    plt.errorbar(xval_gammaoverJ, yval, yerr = error, label = 'h/J = ' + str(float(h1_print_val)*1.5120125550062011) + ', <m>_c = {0:.3f}'.format(avg_classical_mag), color = rgba)\n",
    "plt.legend()\n",
    "plt.xlabel('Gamma/J')\n",
    "plt.xscale('log')\n",
    "plt.ylabel('<m> - <m>@(Gamma = 0)')\n",
    "#plt.ylim((-1,0))\n",
    "plt.title('Obtained using anneal pause quench')\n",
    "plt.show()"
   ]
  },
  {
   "cell_type": "code",
   "execution_count": null,
   "id": "b54dcf29",
   "metadata": {},
   "outputs": [],
   "source": []
  },
  {
   "attachments": {},
   "cell_type": "markdown",
   "id": "a1f98e45",
   "metadata": {},
   "source": [
    "# Tests"
   ]
  },
  {
   "cell_type": "code",
   "execution_count": 15,
   "id": "ce26831f",
   "metadata": {},
   "outputs": [
    {
     "name": "stdout",
     "output_type": "stream",
     "text": [
      "various h/J in folder: ../data_prathus_runs/APQ1/raw\n",
      "dict_keys(['0.000', '2.004', '3.908', '5.211', '0.501', '4.109', '2.505', '1.503', '0.251', '3.006', '3.507', '4.509', '1.002', '3.708', '6.012'])\n"
     ]
    }
   ],
   "source": [
    "folder_global = \"../data_prathus_runs/APQ1/raw\"\n",
    "\n",
    "dict_h = {}\n",
    "Jmax = 0.66\n",
    "mainfolder = list(Path(folder_global).glob('*'))\n",
    "#mainfolder = list(Path('./data/raw_apq_zx').glob('*'))\n",
    "for foldername in mainfolder:\n",
    "    h1 = str(foldername).split('/')[-1].split('=')[-1]\n",
    "    if h1 != \".DS_Store\" and h1 != \".DS_Store:Zone.Identifier\":\n",
    "        #print(\"h1=\",h1)\n",
    "        hJtag = \"{:.3f}\".format(float(h1)/Jmax)\n",
    "        dict_h.update({hJtag:h1})\n",
    "print(\"various h/J in folder: \" + folder_global)\n",
    "print(dict_h.keys())"
   ]
  },
  {
   "cell_type": "code",
   "execution_count": 16,
   "id": "a2deeee7",
   "metadata": {},
   "outputs": [
    {
     "name": "stdout",
     "output_type": "stream",
     "text": [
      "success in finding this folder\n"
     ]
    }
   ],
   "source": [
    "#file_name = \"./data/J=1.0__h1,h2,k2,s=1.04,0.52,-2.0,0__04-10-23__18-08-54.npz\"\n",
    "#file_name = \"./data/J=1.0__h1,h2,k2,s=3.04,1.52,-2.0,0__04-10-23__18-09-45.npz\"\n",
    "# folder = \"../data_prathus_runs/APQ1/raw/h1=0.6613701696385046/s=0.7\"\n",
    "#folder = folder_global + \"/h1=\" + dict_h['3.006'] + \"/s=0.7\"\n",
    "folder = folder_global + \"/h1=\" + dict_h['2.004'] + \"/s=0.7\"\n",
    "# folder = \"../data_prathus_runs/APQ1/raw/h1=1.9841105089155138/s=0.7\"\n",
    "#folder = \"../data_prathus_runs/APQ1/raw/h1=0.0/s=0.7\"\n",
    "\n",
    "mainfolder = list(Path(folder).glob('*'))\n",
    "#mainfolder = list(Path('./data/raw_apq_zx').glob('*'))\n",
    "\n",
    "reps = 0\n",
    "folders_to_open = []\n",
    "if len(mainfolder) != 0:\n",
    "    print(\"success in finding this folder\")\n",
    "else:\n",
    "    print('problem')\n",
    "for foldername in mainfolder:\n",
    "    if str(foldername)[-4:] == \".npz\":\n",
    "        #print(foldername)\n",
    "        reps += 1\n",
    "        folders_to_open.append(foldername)\n",
    "\n",
    "# def open_file(path):\n",
    "    \n",
    "#     file=np.load(path)\n",
    "    \n",
    "#     resp=file['resp']\n",
    "#     paramsarray=file['paramsarray']\n",
    "#     missingqs=file['missingqs']\n",
    "#     twochains=file['twochains']\n",
    "#     nodes=file['final_nodes']\n",
    "    \n",
    "#     return resp,paramsarray,missingqs,twochains,nodes\n",
    "\n",
    "all_configs = []\n",
    "all_energies = []\n",
    "for k in range(len(folders_to_open)):\n",
    "    file=np.load(folders_to_open[k])\n",
    "    resps = file['resp']\n",
    "\n",
    "    for i in range(len(resps)):\n",
    "        frequency = resps[i][2]\n",
    "        for freq in range(frequency):\n",
    "            all_configs.append(resps[i][0])\n",
    "            all_energies.append(resps[i][1])\n",
    "\n",
    "all_configs = np.array(all_configs)\n",
    "file2=np.load(folders_to_open[0])\n",
    "qubit_variables = np.array(file2[\"final_nodes\"])"
   ]
  },
  {
   "cell_type": "code",
   "execution_count": 18,
   "id": "8d9c79d9",
   "metadata": {},
   "outputs": [],
   "source": [
    "mags3 = []\n",
    "eclassical = []\n",
    "for m in range(len(all_configs)):\n",
    "    arr = all_configs[m]\n",
    "    mag3 = np.mean(arr[all_good_down_triangles])\n",
    "    mags3.append(mag3)\n",
    "    eclass = np.mean(np.multiply(arr[list_sites_a], arr[list_sites_b]))\n",
    "    eclassical.append(eclass)"
   ]
  },
  {
   "cell_type": "code",
   "execution_count": 27,
   "id": "272bf45c",
   "metadata": {},
   "outputs": [
    {
     "data": {
      "image/png": "[encoded data removed]",
      "text/plain": [
       "<Figure size 640x480 with 1 Axes>"
      ]
     },
     "metadata": {},
     "output_type": "display_data"
    }
   ],
   "source": [
    "plt.hist(eclassical)\n",
    "plt.show()"
   ]
  },
  {
   "cell_type": "code",
   "execution_count": 28,
   "id": "3476e596",
   "metadata": {},
   "outputs": [
    {
     "name": "stdout",
     "output_type": "stream",
     "text": [
      "avg mags3 bulk is at index 0\n",
      "avg eclassical is at index 6\n"
     ]
    }
   ],
   "source": [
    "a = np.asarray(mags3)\n",
    "index = np.abs(a - a.mean()).argmin()\n",
    "print(\"avg mags3 bulk is at index\", index)\n",
    "a = np.asarray(eclassical)\n",
    "index = np.abs(a - a.mean()).argmin()\n",
    "print(\"avg eclassical is at index\", index)"
   ]
  },
  {
   "cell_type": "code",
   "execution_count": 30,
   "id": "2be92af8",
   "metadata": {},
   "outputs": [
    {
     "data": {
      "text/plain": [
       "-0.3333333333333333"
      ]
     },
     "execution_count": 30,
     "metadata": {},
     "output_type": "execute_result"
    }
   ],
   "source": [
    "np.mean(all_configs[6][all_good_down_triangles])"
   ]
  }
 ],
 "metadata": {
  "kernelspec": {
   "display_name": "Python 3 (ipykernel)",
   "language": "python",
   "name": "python3"
  },
  "language_info": {
   "codemirror_mode": {
    "name": "ipython",
    "version": 3
   },
   "file_extension": ".py",
   "mimetype": "text/x-python",
   "name": "python",
   "nbconvert_exporter": "python",
   "pygments_lexer": "ipython3",
   "version": "3.8.8"
  }
 },
 "nbformat": 4,
 "nbformat_minor": 5
}
