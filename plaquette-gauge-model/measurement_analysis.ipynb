{
 "cells": [
  {
   "attachments": {},
   "cell_type": "markdown",
   "id": "82b575b0",
   "metadata": {},
   "source": [
    "# import"
   ]
  },
  {
   "cell_type": "code",
   "execution_count": 4,
   "id": "89cf23c9",
   "metadata": {},
   "outputs": [],
   "source": [
    "import numpy as np\n",
    "import dimod\n",
    "import dwave_networkx as dnx\n",
    "import networkx as nx\n",
    "import minorminer\n",
    "import minorminer.layout as mml\n",
    "%matplotlib inline\n",
    "import dwave.inspector\n",
    "import math\n",
    "from datetime import datetime\n",
    "from pathlib import Path  \n",
    "import pandas as pd\n",
    "import os\n",
    "\n",
    "from matplotlib.pyplot import subplots\n",
    "from matplotlib.table import Table\n",
    "from matplotlib.patches import Patch\n",
    "from matplotlib.lines import Line2D\n",
    "import matplotlib.cm as cm\n",
    "import matplotlib as mpl\n",
    "import matplotlib.pyplot as plt\n",
    "import itertools  \n",
    "\n",
    "\n",
    "\n",
    "def Reverse(tup):\n",
    "    newtup=(tup[1],tup[0])\n",
    "    return newtup\n",
    "\n",
    "all_colors = ['#1f77b4', '#ff7f0e', '#2ca02c', '#d62728', '#9467bd', '#8c564b', '#e377c2', '#7f7f7f', '#bcbd22', '#17becf']\n"
   ]
  },
  {
   "cell_type": "markdown",
   "id": "bbbac548",
   "metadata": {},
   "source": [
    "# Functions and definitions"
   ]
  },
  {
   "cell_type": "markdown",
   "id": "70a4d0f1",
   "metadata": {},
   "source": [
    "Need the following definitions"
   ]
  },
  {
   "cell_type": "code",
   "execution_count": 12,
   "id": "e03146bb",
   "metadata": {},
   "outputs": [],
   "source": [
    "#array of A,B and the x and y shifts\n",
    "Lx = 7; Ly = 7; #this is the max that can be done. \n",
    "#this is the plaquette values\n",
    "array_AB = [['' for i in range(Ly)] for j in range(Lx)]\n",
    "for ix in range(Lx):\n",
    "    for iy in range(Ly):\n",
    "        if ix%2 == 0:\n",
    "            if iy%2 == 0:\n",
    "                array_AB[ix][iy] = 'A'\n",
    "            else:\n",
    "                array_AB[ix][iy] = 'B'\n",
    "        else:\n",
    "            if iy%2 == 0:\n",
    "                array_AB[ix][iy] = 'B'\n",
    "            else:\n",
    "                array_AB[ix][iy] = 'A'\n",
    "array_AB = np.array(array_AB)\n",
    "\n",
    "#array of A,B and the x and y shifts\n",
    "#this is the plaquette values\n",
    "array_shifts = np.empty((Lx, Ly,2))\n",
    "for ix in range(Lx):\n",
    "    for iy in range(Ly):        \n",
    "        array_shifts[ix, iy] = [4 - (ix%2)*7,4 - (iy%2)*7]\n",
    "\n",
    "plaquette_by_plaquette = []\n",
    "for ix in range(Lx):\n",
    "    for iy in range(Ly):\n",
    "        translation_vector = [ix,iy] #\n",
    "        plaquette_by_plaquette.append(tuple(translation_vector))\n",
    "\n",
    "\n",
    "#####\n",
    "#plotting the A/B sublattice structure\n",
    "#####\n",
    "ybond_qubit = np.ones((Lx, Ly+1))\n",
    "xbond_qubit = np.ones((Lx+1, Ly))"
   ]
  },
  {
   "cell_type": "markdown",
   "id": "cbf2dcd3",
   "metadata": {},
   "source": [
    "# import"
   ]
  },
  {
   "cell_type": "code",
   "execution_count": 44,
   "id": "1c188f9b",
   "metadata": {},
   "outputs": [],
   "source": [
    "n = 0\n",
    "inv_temp = 0.6\n",
    "#inv_temp_range = [0.1, 0.3, 0.6, 0.8, 1.0]\n",
    "\n",
    "folder = Path(\"./data/raw/\" + \"/\" + \"n=\" + str(n) + \"/\" + \"beta=\" + str(inv_temp))\n",
    "folder.mkdir(parents=True, exist_ok=True)\n",
    "Name = 'forward_anneal_sol_' + str(0)\n",
    "filepath = str(Path(folder, Name)) + '.npz'\n",
    "file_import = np.load(filepath, allow_pickle=True)\n",
    "\n",
    "#extract what is needed\n",
    "record = file_import['resp']\n",
    "all_plaquettes_mod = file_import['all_plaquettes_mod']\n",
    "variables = file_import['variables']"
   ]
  },
  {
   "attachments": {},
   "cell_type": "markdown",
   "id": "7faaa492",
   "metadata": {},
   "source": [
    "The measurement of plaquettes and magnetization"
   ]
  },
  {
   "cell_type": "code",
   "execution_count": 39,
   "id": "b6a6e1e2",
   "metadata": {},
   "outputs": [
    {
     "name": "stdout",
     "output_type": "stream",
     "text": [
      "percentage of samples in lowest energy state:  0.5\n",
      "avg value of Sum(P)/N for the lowest energy states:  -0.5102040816326531\n",
      "avg value of Sum(P)/N for all states:  -0.17204081632653065\n",
      "avg magnetization for all states:  -0.018214285714285714\n"
     ]
    }
   ],
   "source": [
    "#new plaquettes\n",
    "plaq_variable_index_mod = []\n",
    "\n",
    "single_qubits_mag = np.unique(all_plaquettes_mod)\n",
    "\n",
    "#does not work yet, only works after a run has been done and an embedding is defined.\n",
    "for i in range(int(len(all_plaquettes_mod)/4)):\n",
    "    qubit_indices = all_plaquettes_mod[4*i:(4*i+4)]\n",
    "    single_plaquette = []\n",
    "    for k in range(4):\n",
    "        where_is_it = np.where(np.array(variables) == qubit_indices[k])[0]\n",
    "        if len(where_is_it) > 0:\n",
    "            single_plaquette.append(where_is_it[0])\n",
    "    if len(single_plaquette) != 4:\n",
    "        print(\"woops\")\n",
    "    plaq_variable_index_mod.append(np.array(single_plaquette))\n",
    "#print(plaq_variable_index_mod)\n",
    "\n",
    "indices_for_mag = []\n",
    "for i in range(len(single_qubits_mag)):\n",
    "    where_is_it = np.where(np.array(variables) == single_qubits_mag[i])[0]\n",
    "    if len(where_is_it) > 0:\n",
    "        indices_for_mag.append(where_is_it[0])\n",
    "\n",
    "#unit cells in the same order as the plaq_variable_index\n",
    "unit_cell_after = plaquette_by_plaquette\n",
    "all_avg = np.zeros((Lx,Ly))\n",
    "all_avg_min = np.zeros((Lx,Ly))\n",
    "#min_ene = response.record[0][1]\n",
    "min_ene = np.min([record[i][1] for i in range(len(record))])\n",
    "count = 0\n",
    "mag_av = 0\n",
    "mag_av_2 = 0\n",
    "full_plaquette_per_resp = []\n",
    "for resp in record:\n",
    "    current_val = 0\n",
    "    if resp[1] == min_ene:\n",
    "        count += 1\n",
    "        for k in range(len(plaq_variable_index_mod)):\n",
    "            all_avg_min[unit_cell_after[k]] += np.prod(resp[0][plaq_variable_index_mod[k]])\n",
    "    for k in range(len(plaq_variable_index_mod)):\n",
    "        all_avg[unit_cell_after[k]] += np.prod(resp[0][plaq_variable_index_mod[k]])\n",
    "        current_val += np.prod(resp[0][plaq_variable_index_mod[k]])\n",
    "\n",
    "    for i in range(len(indices_for_mag)):\n",
    "        mag_av += np.sum(resp[0][indices_for_mag[i]])\n",
    "        mag_av_2 += np.sum(resp[0][indices_for_mag[i]]**2)\n",
    "    full_plaquette_per_resp.append(current_val/(7*7))\n",
    "\n",
    "print(\"percentage of samples in lowest energy state: \", 100*count/len(record))\n",
    "print(\"avg value of Sum(P)/N for the lowest energy states: \", np.sum(all_avg_min/count)/(7*7))\n",
    "print(\"avg value of Sum(P)/N for all states: \", np.sum(all_avg/len(record))/(7*7))\n",
    "print(\"avg magnetization for all states: \", mag_av/len(record)/(7*7*4))"
   ]
  },
  {
   "cell_type": "code",
   "execution_count": 33,
   "id": "98bf1c59",
   "metadata": {},
   "outputs": [
    {
     "data": {
      "text/plain": [
       "<matplotlib.table.Table at 0x7fd96113abb0>"
      ]
     },
     "execution_count": 33,
     "metadata": {},
     "output_type": "execute_result"
    },
    {
     "data": {
      "image/png": "[encoded data removed]",
      "text/plain": [
       "<Figure size 640x480 with 1 Axes>"
      ]
     },
     "metadata": {},
     "output_type": "display_data"
    }
   ],
   "source": [
    "cmap = plt.colormaps['RdBu']\n",
    "#norm = mpl.colors.Normalize(vmin=-1.0, vmax=1.0)\n",
    "\n",
    "#this is the plaquette values\n",
    "ary = np.transpose(all_avg/len(record)) #plot over all obtained states\n",
    "# ary = np.transpose(all_avg_min/count) #plot over only the lowest energy states\n",
    "cell_colors=(\"white\", \"black\")\n",
    "font_colors=(\"black\", \"white\")\n",
    "node_colors = (\"red\", \"blue\")\n",
    "fmt=\"%.2f\"\n",
    "figsize=None\n",
    "fontsize=None\n",
    "show_text = False\n",
    "\n",
    "fig, ax = subplots(figsize=figsize)\n",
    "ax.set_axis_off()\n",
    "delta = 1/11/2\n",
    "tb = Table(ax, bbox = [delta, delta, 1 - 2*delta, 1-2*delta])\n",
    "\n",
    "n_rows, n_cols = ary.shape\n",
    "width, height = 1.0/(n_rows + 1) , 1.0/(n_cols + 1)\n",
    "for (row_idx, col_idx), cell_val in np.ndenumerate(ary):\n",
    "    idx = (col_idx + row_idx) % 2\n",
    "    color_code = int(cell_val > 0.5)\n",
    "    # if show_text:\n",
    "    #     text_in = fmt % cell_val\n",
    "    # else:\n",
    "    #     text_in = \"\"\n",
    "    tb.add_cell(\n",
    "        row_idx,\n",
    "        col_idx,\n",
    "        width,\n",
    "        height,\n",
    "        #text=text_in,\n",
    "        loc=\"center\",\n",
    "        facecolor=cmap((cell_val + 1)/2),\n",
    "    )\n",
    "    #print(cmap(cell_val))\n",
    "    #tb._cells[(row_idx, col_idx)]._text.set_color(font_colors[color_code])\n",
    "\n",
    "tb.set_fontsize(fontsize)\n",
    "ax.add_table(tb)\n"
   ]
  },
  {
   "cell_type": "code",
   "execution_count": 19,
   "id": "db46f986",
   "metadata": {},
   "outputs": [
    {
     "data": {
      "image/png": "[encoded data removed]",
      "text/plain": [
       "<Figure size 600x100 with 1 Axes>"
      ]
     },
     "metadata": {},
     "output_type": "display_data"
    }
   ],
   "source": [
    "fig, ax = plt.subplots(figsize=(6, 1))\n",
    "fig.subplots_adjust(bottom=0.5)\n",
    "cmap = plt.colormaps['RdBu']\n",
    "norm = mpl.colors.Normalize(vmin=-1.0, vmax=1.0)\n",
    "cb1 = mpl.colorbar.ColorbarBase(ax, cmap=cmap,\n",
    "                                norm=norm,\n",
    "                                orientation='horizontal')\n",
    "cb1.set_label('P')\n"
   ]
  },
  {
   "cell_type": "markdown",
   "id": "eb360e53",
   "metadata": {},
   "source": [
    "histograms of the plaquette values"
   ]
  },
  {
   "cell_type": "code",
   "execution_count": 43,
   "id": "f4f5a71d",
   "metadata": {},
   "outputs": [
    {
     "data": {
      "image/png": "[encoded data removed]",
      "text/plain": [
       "<Figure size 640x480 with 1 Axes>"
      ]
     },
     "metadata": {},
     "output_type": "display_data"
    }
   ],
   "source": [
    "step = 0.05\n",
    "plt.hist(full_plaquette_per_resp, bins = np.arange(-1, 1+step, step) - step/2);"
   ]
  },
  {
   "cell_type": "code",
   "execution_count": null,
   "id": "b5fe317f",
   "metadata": {},
   "outputs": [],
   "source": []
  },
  {
   "cell_type": "markdown",
   "id": "deb1b280",
   "metadata": {},
   "source": [
    "# import a batch"
   ]
  },
  {
   "cell_type": "code",
   "execution_count": 87,
   "id": "752fe9be",
   "metadata": {},
   "outputs": [],
   "source": [
    "n = 49\n",
    "# inv_temp = 0.6\n",
    "# inv_temp_range = [0.1, 0.3, 0.6, 0.8, 1.0]\n",
    "inv_temp_range = 1 / np.linspace(1, 10, 20)\n",
    "\n",
    "full_record = []\n",
    "\n",
    "for inv_temp in inv_temp_range:\n",
    "    folder = Path(\"./data/raw/\" + \"/\" + \"n=\" + str(n) + \"/\" + \"beta=\" + str(inv_temp))\n",
    "    folder.mkdir(parents=True, exist_ok=True)\n",
    "    Name = 'forward_anneal_sol_' + str(0)\n",
    "    filepath = str(Path(folder, Name)) + '.npz'\n",
    "    file_import = np.load(filepath, allow_pickle=True)\n",
    "\n",
    "    #extract what is needed\n",
    "    full_record.append(file_import['resp'])\n",
    "    all_plaquettes_mod = file_import['all_plaquettes_mod']\n",
    "    variables = file_import['variables']"
   ]
  },
  {
   "cell_type": "code",
   "execution_count": 88,
   "id": "a0defd61",
   "metadata": {},
   "outputs": [],
   "source": [
    "def measure_mag_per_config(resps, all_plaquettes_mod, variables):\n",
    "    single_qubits_mag = np.unique(all_plaquettes_mod)\n",
    "    indices_for_mag = []\n",
    "    for i in range(len(single_qubits_mag)):\n",
    "        where_is_it = np.where(np.array(variables) == single_qubits_mag[i])[0]\n",
    "        if len(where_is_it) > 0:\n",
    "            indices_for_mag.append(where_is_it[0])\n",
    "\n",
    "    mag_av = []\n",
    "    mag_av_2 = []\n",
    "    for resp in resps:\n",
    "        val1 = 0\n",
    "        val2 = 0\n",
    "        for i in range(len(indices_for_mag)):\n",
    "            val1 += np.sum(resp[0][indices_for_mag[i]])\n",
    "            val2 += np.sum(resp[0][indices_for_mag[i]])**2\n",
    "        mag_av.append(val1)\n",
    "        mag_av_2.append(val2)\n",
    "\n",
    "    return mag_av, mag_av_2\n",
    "\n",
    "def measure_plaquettes_per_config(resps, all_plaquettes_mod, variables):\n",
    "\n",
    "    plaq_variable_index_mod = []\n",
    "    for i in range(int(len(all_plaquettes_mod)/4)):\n",
    "        qubit_indices = all_plaquettes_mod[4*i:(4*i+4)]\n",
    "        single_plaquette = []\n",
    "        for k in range(4):\n",
    "            where_is_it = np.where(np.array(variables) == qubit_indices[k])[0]\n",
    "            if len(where_is_it) > 0:\n",
    "                single_plaquette.append(where_is_it[0])\n",
    "        if len(single_plaquette) != 4:\n",
    "            print(\"woops\")\n",
    "        plaq_variable_index_mod.append(np.array(single_plaquette))\n",
    "\n",
    "    unit_cell_after = []\n",
    "    for ix in range(7):\n",
    "        for iy in range(7):\n",
    "            unit_cell_after.append(tuple([ix,iy]))\n",
    "    full_plaquette_per_resp = []\n",
    "    all_avg = np.zeros((7,7))\n",
    "    for resp in resps:\n",
    "        current_val = 0\n",
    "        for k in range(len(plaq_variable_index_mod)):\n",
    "            all_avg[unit_cell_after[k]] += np.prod(resp[0][plaq_variable_index_mod[k]])\n",
    "            current_val += np.prod(resp[0][plaq_variable_index_mod[k]])\n",
    "        full_plaquette_per_resp.append(current_val/(7*7))\n",
    "    \n",
    "    return all_avg, full_plaquette_per_resp\n",
    "    \n"
   ]
  },
  {
   "cell_type": "code",
   "execution_count": 89,
   "id": "5144f8fc",
   "metadata": {},
   "outputs": [
    {
     "name": "stdout",
     "output_type": "stream",
     "text": [
      "beta =  1.0\n",
      "avg value of Sum(P)/N for all states:  0.8195918367346938\n",
      "avg magnetization <sum_i sigma_i^z> for all states:  0.0038775510204081634\n",
      "avg magnetization <|sum_i sigma_i^z|^2> for all states:  0.5714285714285714\n",
      "beta =  0.6785714285714286\n",
      "avg value of Sum(P)/N for all states:  0.6134693877551021\n",
      "avg magnetization <sum_i sigma_i^z> for all states:  0.0326530612244898\n",
      "avg magnetization <|sum_i sigma_i^z|^2> for all states:  0.5714285714285714\n",
      "beta =  0.5135135135135136\n",
      "avg value of Sum(P)/N for all states:  0.44469387755102047\n",
      "avg magnetization <sum_i sigma_i^z> for all states:  0.030510204081632655\n",
      "avg magnetization <|sum_i sigma_i^z|^2> for all states:  0.5714285714285714\n",
      "beta =  0.41304347826086957\n",
      "avg value of Sum(P)/N for all states:  0.3112244897959183\n",
      "avg magnetization <sum_i sigma_i^z> for all states:  0.0638265306122449\n",
      "avg magnetization <|sum_i sigma_i^z|^2> for all states:  0.5714285714285714\n",
      "beta =  0.3454545454545455\n",
      "avg value of Sum(P)/N for all states:  0.21795918367346942\n",
      "avg magnetization <sum_i sigma_i^z> for all states:  0.04418367346938776\n",
      "avg magnetization <|sum_i sigma_i^z|^2> for all states:  0.5714285714285714\n",
      "beta =  0.296875\n",
      "avg value of Sum(P)/N for all states:  0.14020408163265308\n",
      "avg magnetization <sum_i sigma_i^z> for all states:  0.04535714285714286\n",
      "avg magnetization <|sum_i sigma_i^z|^2> for all states:  0.5714285714285714\n",
      "beta =  0.2602739726027397\n",
      "avg value of Sum(P)/N for all states:  0.10204081632653063\n",
      "avg magnetization <sum_i sigma_i^z> for all states:  0.06739795918367347\n",
      "avg magnetization <|sum_i sigma_i^z|^2> for all states:  0.5714285714285714\n",
      "beta =  0.23170731707317072\n",
      "avg value of Sum(P)/N for all states:  0.04448979591836735\n",
      "avg magnetization <sum_i sigma_i^z> for all states:  0.10525510204081633\n",
      "avg magnetization <|sum_i sigma_i^z|^2> for all states:  0.5714285714285714\n",
      "beta =  0.20879120879120883\n",
      "avg value of Sum(P)/N for all states:  0.04918367346938777\n",
      "avg magnetization <sum_i sigma_i^z> for all states:  0.05877551020408163\n",
      "avg magnetization <|sum_i sigma_i^z|^2> for all states:  0.5714285714285714\n",
      "beta =  0.19000000000000003\n",
      "avg value of Sum(P)/N for all states:  0.032448979591836735\n",
      "avg magnetization <sum_i sigma_i^z> for all states:  0.06739795918367347\n",
      "avg magnetization <|sum_i sigma_i^z|^2> for all states:  0.5714285714285714\n",
      "beta =  0.1743119266055046\n",
      "avg value of Sum(P)/N for all states:  0.017551020408163268\n",
      "avg magnetization <sum_i sigma_i^z> for all states:  0.09862244897959183\n",
      "avg magnetization <|sum_i sigma_i^z|^2> for all states:  0.5714285714285714\n",
      "beta =  0.1610169491525424\n",
      "avg value of Sum(P)/N for all states:  0.006326530612244896\n",
      "avg magnetization <sum_i sigma_i^z> for all states:  0.04642857142857143\n",
      "avg magnetization <|sum_i sigma_i^z|^2> for all states:  0.5714285714285714\n",
      "beta =  0.14960629921259844\n",
      "avg value of Sum(P)/N for all states:  0.025918367346938778\n",
      "avg magnetization <sum_i sigma_i^z> for all states:  0.06683673469387755\n",
      "avg magnetization <|sum_i sigma_i^z|^2> for all states:  0.5714285714285714\n",
      "beta =  0.13970588235294118\n",
      "avg value of Sum(P)/N for all states:  -0.005714285714285717\n",
      "avg magnetization <sum_i sigma_i^z> for all states:  0.05469387755102041\n",
      "avg magnetization <|sum_i sigma_i^z|^2> for all states:  0.5714285714285714\n",
      "beta =  0.1310344827586207\n",
      "avg value of Sum(P)/N for all states:  0.0010204081632653058\n",
      "avg magnetization <sum_i sigma_i^z> for all states:  0.07137755102040816\n",
      "avg magnetization <|sum_i sigma_i^z|^2> for all states:  0.5714285714285714\n",
      "beta =  0.12337662337662339\n",
      "avg value of Sum(P)/N for all states:  0.022653061224489793\n",
      "avg magnetization <sum_i sigma_i^z> for all states:  0.10239795918367348\n",
      "avg magnetization <|sum_i sigma_i^z|^2> for all states:  0.5714285714285714\n",
      "beta =  0.11656441717791413\n",
      "avg value of Sum(P)/N for all states:  -0.000612244897959185\n",
      "avg magnetization <sum_i sigma_i^z> for all states:  0.08051020408163265\n",
      "avg magnetization <|sum_i sigma_i^z|^2> for all states:  0.5714285714285714\n",
      "beta =  0.11046511627906977\n",
      "avg value of Sum(P)/N for all states:  0.002653061224489796\n",
      "avg magnetization <sum_i sigma_i^z> for all states:  0.07581632653061224\n",
      "avg magnetization <|sum_i sigma_i^z|^2> for all states:  0.5714285714285714\n",
      "beta =  0.10497237569060774\n",
      "avg value of Sum(P)/N for all states:  -0.0034693877551020395\n",
      "avg magnetization <sum_i sigma_i^z> for all states:  0.06408163265306123\n",
      "avg magnetization <|sum_i sigma_i^z|^2> for all states:  0.5714285714285714\n",
      "beta =  0.1\n",
      "avg value of Sum(P)/N for all states:  0.02040816326530612\n",
      "avg magnetization <sum_i sigma_i^z> for all states:  0.08612244897959183\n",
      "avg magnetization <|sum_i sigma_i^z|^2> for all states:  0.5714285714285714\n"
     ]
    }
   ],
   "source": [
    "data_for_parity_histo = []\n",
    "labels = []\n",
    "all_mag_data = []\n",
    "all_plaquette_data = []\n",
    "for i in range(len(full_record)):\n",
    "    labels.append(\"beta=\" + str(inv_temp_range[i]))\n",
    "    avg_P, avg_per_config = measure_plaquettes_per_config(full_record[i], all_plaquettes_mod, variables)\n",
    "    print('beta = ', inv_temp_range[i])\n",
    "    print(\"avg value of Sum(P)/N for all states: \", np.sum(avg_P/len(full_record[i]))/(7*7))\n",
    "    data_for_parity_histo.append(avg_per_config)\n",
    "    mag1, mag2 = measure_mag_per_config(full_record[i], all_plaquettes_mod, variables)\n",
    "    print(\"avg magnetization <sum_i sigma_i^z> for all states: \", np.sum(mag1)/len(full_record[i])/(7*7*4))\n",
    "    print(\"avg magnetization <|sum_i sigma_i^z|^2> for all states: \", np.sum(mag2)/len(full_record[i])/(7*7*4))\n",
    "\n",
    "    all_mag_data.append(np.sum(mag1)/len(full_record[i])/(7*7*4))\n",
    "    all_plaquette_data.append(np.sum(avg_P/len(full_record[i]))/(7*7))\n"
   ]
  },
  {
   "cell_type": "code",
   "execution_count": 95,
   "id": "837c0d0e",
   "metadata": {},
   "outputs": [
    {
     "data": {
      "image/png": "[encoded data removed]",
      "text/plain": [
       "<Figure size 640x480 with 1 Axes>"
      ]
     },
     "metadata": {},
     "output_type": "display_data"
    }
   ],
   "source": [
    "step = 0.2\n",
    "# plt.hist(full_plaquette_per_resp, bins = np.arange(-1, 1+step, step) - step/2);\n",
    "bin_range = np.arange(-1, 1+2*step, step) - step/2\n",
    "# colors = all_colors[:len(data_for_parity_histo)]\n",
    "cmap = plt.colormaps['RdBu']\n",
    "colors = [cmap(i/len(data_for_parity_histo)) for i in range(len(data_for_parity_histo))]\n",
    "plt.hist(data_for_parity_histo, bins = bin_range, density=True, histtype='bar', color=colors, label=labels);\n",
    "# plt.legend(prop={'size': 10})\n"
   ]
  },
  {
   "cell_type": "code",
   "execution_count": 72,
   "id": "99f96ec7",
   "metadata": {},
   "outputs": [
    {
     "data": {
      "image/png": "[encoded data removed]",
      "text/plain": [
       "<Figure size 600x100 with 1 Axes>"
      ]
     },
     "metadata": {},
     "output_type": "display_data"
    }
   ],
   "source": [
    "fig, ax = plt.subplots(figsize=(6, 1))\n",
    "fig.subplots_adjust(bottom=0.5)\n",
    "cmap = plt.colormaps['RdBu_r']\n",
    "norm = mpl.colors.Normalize(vmin=np.min(inv_temp_range), vmax=np.max(inv_temp_range))\n",
    "cb1 = mpl.colorbar.ColorbarBase(ax, cmap=cmap,\n",
    "                                norm=norm,\n",
    "                                orientation='horizontal')\n",
    "cb1.set_label(r'$\\beta$')"
   ]
  },
  {
   "cell_type": "code",
   "execution_count": 97,
   "id": "606bbd51",
   "metadata": {},
   "outputs": [
    {
     "data": {
      "image/png": "[encoded data removed]",
      "text/plain": [
       "<Figure size 640x480 with 1 Axes>"
      ]
     },
     "metadata": {},
     "output_type": "display_data"
    }
   ],
   "source": [
    "plt.plot(1/inv_temp_range, all_plaquette_data, 'o-', label = r'$\\rho = ${:.2f}'.format(n/49))\n",
    "# plt.plot(1/inv_temp_range, all_mag_data, 'o-', label = r'$\\rho = ${:.2f}'.format(n/49))\n",
    "plt.xscale('log')\n",
    "plt.ylabel(r'$\\langle \\frac{1}{N} \\sum_p C_p \\rangle$')\n",
    "# plt.ylabel(r'$\\langle \\frac{1}{N_s} \\sum_i \\sigma_i^z \\rangle$')\n",
    "plt.ylim([-1,1])\n",
    "plt.legend()\n",
    "plt.xlabel(r'$T/J$');"
   ]
  }
 ],
 "metadata": {
  "kernelspec": {
   "display_name": "Python 3 (ipykernel)",
   "language": "python",
   "name": "python3"
  },
  "language_info": {
   "codemirror_mode": {
    "name": "ipython",
    "version": 3
   },
   "file_extension": ".py",
   "mimetype": "text/x-python",
   "name": "python",
   "nbconvert_exporter": "python",
   "pygments_lexer": "ipython3",
   "version": "3.8.8"
  }
 },
 "nbformat": 4,
 "nbformat_minor": 5
}
